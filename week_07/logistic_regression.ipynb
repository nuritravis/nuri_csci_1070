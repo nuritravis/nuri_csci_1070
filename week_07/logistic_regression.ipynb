{
 "cells": [
  {
   "cell_type": "code",
   "execution_count": 11,
   "id": "0a00ec95-38a7-4685-b570-be59339b6ba6",
   "metadata": {},
   "outputs": [],
   "source": [
    "import pandas as pd\n",
    "import numpy as np\n",
    "import matplotlib.pyplot as plt\n",
    "import seaborn\n",
    "\n",
    "diabetes_df = pd.read_csv(\"diabetes.csv\")"
   ]
  },
  {
   "cell_type": "code",
   "execution_count": 22,
   "id": "ec0c9159-eb16-4c92-ad50-f63fa9f7fa30",
   "metadata": {},
   "outputs": [
    {
     "name": "stdout",
     "output_type": "stream",
     "text": [
      "Optimization terminated successfully.\n",
      "         Current function value: 0.519116\n",
      "         Iterations 6\n",
      "Intercept   -5.912449\n",
      "Age          0.024778\n",
      "Glucose      0.035644\n",
      "dtype: float64\n"
     ]
    }
   ],
   "source": [
    "from statsmodels.formula.api import logit\n",
    "\n",
    "\n",
    "age_gl_no_int = logit('Outcome ~ Age + Glucose', data= diabetes_df).fit()\n",
    "print(age_gl_no_int.params)\n",
    "#Outcome = 0.24*Age + 0.036*Glucose"
   ]
  },
  {
   "cell_type": "code",
   "execution_count": 21,
   "id": "9177bd65-9e15-4649-926f-a3282950141b",
   "metadata": {},
   "outputs": [
    {
     "name": "stdout",
     "output_type": "stream",
     "text": [
      "Intercept   -5.912449\n",
      "Age          0.024778\n",
      "Glucose      0.035644\n",
      "dtype: float64\n"
     ]
    }
   ],
   "source": [
    "print(age_gl_no_int.params)\n",
    "# Outcome = -9.5 + 0.13*Age + 0.06*Glucose + -.0008*Age*Glucose"
   ]
  },
  {
   "cell_type": "code",
   "execution_count": 23,
   "id": "f7ee7bf0-c57f-4d4f-84e5-e8452838bd0e",
   "metadata": {},
   "outputs": [],
   "source": [
    "from sklearn.linear_model import LogisticRegression\n",
    "from sklearn.model_selection import train_test_split\n",
    "from sklearn.preprocessing import StandardScaler\n",
    "\n",
    "X = diabetes_df.drop('Outcome', axis=1)\n",
    "y=diabetes_df['Outcome']\n",
    "\n",
    "# split data into training and test sets\n",
    "# stratification can be quite helpful (not always)\n",
    "# it tries to split the test data into groups that represent the data well\n",
    "# instead of randomly selecting from the full set\n",
    "X_train, X_test, y_train, y_test = train_test_split(X, y, test_size = 0.2,\n",
    "                                                   random_state = 42,\n",
    "                                                   stratify=y)\n",
    "sc = StandardScaler()\n",
    "X_train = sc.fit_transform(X_train)\n",
    "X_test = sc.fit_transform(X_test)"
   ]
  },
  {
   "cell_type": "code",
   "execution_count": 24,
   "id": "c95348ee-e22c-40fd-811f-626dda6abb49",
   "metadata": {},
   "outputs": [],
   "source": [
    "#simplest logistic regression approach\n",
    "regression = LogisticRegression(random_state=42).fit(X_train, y_train)\n",
    "y_predicted = regression.predict(X_test)"
   ]
  },
  {
   "cell_type": "code",
   "execution_count": 27,
   "id": "3d851cc8-6451-4841-a1e1-67dc794a22fa",
   "metadata": {},
   "outputs": [],
   "source": [
    "from sklearn.metrics import confusion_matrix\n",
    "from statsmodels.graphics.mosaicplot import mosaic\n",
    "from sklearn.metrics import ConfusionMatrixDisplay\n"
   ]
  },
  {
   "cell_type": "code",
   "execution_count": 28,
   "id": "9e79372b-679c-472e-9e24-aae7e66e564a",
   "metadata": {},
   "outputs": [],
   "source": [
    "def precision_and_recall(calc_type:str, tp: int, tn: int,\n",
    "                        fp: int, fn: int) -> float:\n",
    "    \"\"\"\n",
    "    this function produces precision or recall based on what is passed in\n",
    "    \"\"\"\n",
    "    if calc_type == 'precision':\n",
    "        value = tp/(tp+fp)\n",
    "        return value\n",
    "    elif calc_type == 'recall':\n",
    "        value = tp /(tp+fn)\n",
    "        return value\n",
    "    else:\n",
    "        error_msg = \"input error\"\n",
    "        return error_msg"
   ]
  },
  {
   "cell_type": "code",
   "execution_count": 29,
   "id": "ebab0194-2931-4a14-869a-b1d479821b75",
   "metadata": {},
   "outputs": [
    {
     "data": {
      "text/plain": [
       "0.6"
      ]
     },
     "execution_count": 29,
     "metadata": {},
     "output_type": "execute_result"
    }
   ],
   "source": [
    "precision_and_recall('precision', 27, 82, 18,27)"
   ]
  },
  {
   "cell_type": "code",
   "execution_count": 30,
   "id": "cf92da87-71de-4998-9dd1-179f5c181edd",
   "metadata": {},
   "outputs": [
    {
     "data": {
      "text/plain": [
       "0.5"
      ]
     },
     "execution_count": 30,
     "metadata": {},
     "output_type": "execute_result"
    }
   ],
   "source": [
    "precision_and_recall('recall', 27, 82, 18,27)"
   ]
  },
  {
   "cell_type": "code",
   "execution_count": null,
   "id": "50819f66-f4c2-40a4-bd88-a870a8bd3a9f",
   "metadata": {},
   "outputs": [],
   "source": []
  }
 ],
 "metadata": {
  "kernelspec": {
   "display_name": "Python 3 (ipykernel)",
   "language": "python",
   "name": "python3"
  },
  "language_info": {
   "codemirror_mode": {
    "name": "ipython",
    "version": 3
   },
   "file_extension": ".py",
   "mimetype": "text/x-python",
   "name": "python",
   "nbconvert_exporter": "python",
   "pygments_lexer": "ipython3",
   "version": "3.12.5"
  }
 },
 "nbformat": 4,
 "nbformat_minor": 5
}
