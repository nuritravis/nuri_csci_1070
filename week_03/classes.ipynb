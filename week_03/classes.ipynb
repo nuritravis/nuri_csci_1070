{
 "cells": [
  {
   "cell_type": "markdown",
   "id": "f3bbe254-df76-4962-8ed4-42d4ac45d941",
   "metadata": {},
   "source": [
    "# Scope"
   ]
  },
  {
   "cell_type": "markdown",
   "id": "3484d751-1adf-43a3-8560-840c7d72f6d1",
   "metadata": {},
   "source": [
    "Local - only available to other code in this scope. A function, for example, only has access to the names defined in that function or passed into it via arguments"
   ]
  },
  {
   "cell_type": "markdown",
   "id": "f237f78b-d1a7-49ea-a07c-7d67a4bf53f5",
   "metadata": {},
   "source": [
    "Enclosing - only exists for nested functions. Inner nests can have access to the names in outer nests "
   ]
  },
  {
   "cell_type": "markdown",
   "id": "45ba5e29-03f2-45db-a6f6-d396b775613a",
   "metadata": {},
   "source": [
    "Global - available to all your code "
   ]
  },
  {
   "cell_type": "markdown",
   "id": "630e62a2-1778-4118-b600-d73355756b3b",
   "metadata": {},
   "source": [
    "built-in - all names that are created by python when you run a script"
   ]
  },
  {
   "cell_type": "code",
   "execution_count": 2,
   "id": "e86b31ca-9377-4af6-9820-a09cdf8a76f5",
   "metadata": {},
   "outputs": [
    {
     "name": "stdout",
     "output_type": "stream",
     "text": [
      "0\n"
     ]
    }
   ],
   "source": [
    "class a_sample_class:\n",
    "# default constructor \n",
    "    def __init__(self):\n",
    "        self.var = 0 # self is a default variable that contains the memory address of the current code you're working in\n",
    "        \n",
    "    # an instance method for printing\n",
    "    def print_vars(self):\n",
    "        print(self.var)\n",
    "        \n",
    "# create an instance of class \n",
    "obj = a_sample_class()\n",
    "\n",
    "# call instance method to get value for var\n",
    "obj.print_vars()\n",
    "\n"
   ]
  },
  {
   "cell_type": "code",
   "execution_count": 4,
   "id": "5a291cd8-cde2-40f9-a22b-6f0ebbcd8121",
   "metadata": {},
   "outputs": [
    {
     "name": "stdout",
     "output_type": "stream",
     "text": [
      "2\n"
     ]
    }
   ],
   "source": [
    "class a_sample_class:\n",
    "# parameterized constructor \n",
    "    def __init__(self, one, two):\n",
    "        self.first = one\n",
    "        self.second = two\n",
    "        \n",
    "    # an instance method for printing\n",
    "    def print_vars(self):\n",
    "        print(self.first)\n",
    "        \n",
    "# create an instance of class \n",
    "obj = a_sample_class(2, 8)\n",
    "\n",
    "obj.print_vars()"
   ]
  },
  {
   "cell_type": "code",
   "execution_count": 6,
   "id": "e39e3b31-dc3b-476a-9cdd-9064f1abd132",
   "metadata": {},
   "outputs": [
    {
     "name": "stdout",
     "output_type": "stream",
     "text": [
      "17\n",
      "5\n",
      "5\n"
     ]
    }
   ],
   "source": [
    "class a_sample_class:\n",
    "    class_attr = 5\n",
    "\n",
    "    def __init__(self, one, two):\n",
    "        #instance attribute\n",
    "        self.first = one\n",
    "        self.second = two\n",
    "        \n",
    "# object is an instance of a class\n",
    "obj = a_sample_class(17, 42)\n",
    "\n",
    "#instance attribute as property of object\n",
    "print(obj.first) # <-- prints value\n",
    "\n",
    "#class attribute as property of object\n",
    "print(obj.class_attr) # <-- print value\n",
    "\n",
    "#instance attribute as property of class\n",
    "print(a_sample_class.first) # <-- error because the attribute is local to the object, not the class\n",
    "\n",
    "#class attribute as property of class\n",
    "print(a_sample_class.class_attr)"
   ]
  },
  {
   "cell_type": "markdown",
   "id": "ebdb48e2-7b64-4530-8f20-18efcdc5eead",
   "metadata": {},
   "source": [
    "# instance attributes and class attributes\n",
    "2 scopes for attributes\n",
    "\n",
    "instance attribute = variable that belongs to a specific instance or instantiation\n",
    "Defined inside the constructor (init), can access from the scope of an object\n",
    "\n",
    "class attribute = variable that belongs to the class itself\n",
    "it is both a property of a class and a property of the object\n",
    "we can mutate a class attribute to be an instance attribute\n",
    "\n"
   ]
  },
  {
   "cell_type": "code",
   "execution_count": 7,
   "id": "ab078bad-f63c-40fc-bb41-e076eb5af0f9",
   "metadata": {},
   "outputs": [
    {
     "name": "stdout",
     "output_type": "stream",
     "text": [
      "Help on a_sample_class in module __main__ object:\n",
      "\n",
      "class a_sample_class(builtins.object)\n",
      " |  a_sample_class(one, two)\n",
      " |\n",
      " |  Methods defined here:\n",
      " |\n",
      " |  __init__(self, one, two)\n",
      " |      Initialize self.  See help(type(self)) for accurate signature.\n",
      " |\n",
      " |  ----------------------------------------------------------------------\n",
      " |  Data descriptors defined here:\n",
      " |\n",
      " |  __dict__\n",
      " |      dictionary for instance variables\n",
      " |\n",
      " |  __weakref__\n",
      " |      list of weak references to the object\n",
      " |\n",
      " |  ----------------------------------------------------------------------\n",
      " |  Data and other attributes defined here:\n",
      " |\n",
      " |  class_attr = 5\n",
      "\n"
     ]
    }
   ],
   "source": [
    "help(obj)"
   ]
  },
  {
   "cell_type": "code",
   "execution_count": 8,
   "id": "70053d1d-2f9b-48ae-a702-d5cf8fdba098",
   "metadata": {},
   "outputs": [
    {
     "data": {
      "text/plain": [
       "['In',\n",
       " 'Out',\n",
       " '_',\n",
       " '__',\n",
       " '___',\n",
       " '__builtin__',\n",
       " '__builtins__',\n",
       " '__doc__',\n",
       " '__loader__',\n",
       " '__name__',\n",
       " '__package__',\n",
       " '__session__',\n",
       " '__spec__',\n",
       " '_dh',\n",
       " '_i',\n",
       " '_i1',\n",
       " '_i2',\n",
       " '_i3',\n",
       " '_i4',\n",
       " '_i5',\n",
       " '_i6',\n",
       " '_i7',\n",
       " '_i8',\n",
       " '_ih',\n",
       " '_ii',\n",
       " '_iii',\n",
       " '_oh',\n",
       " 'a_sample_class',\n",
       " 'exit',\n",
       " 'get_ipython',\n",
       " 'obj',\n",
       " 'open',\n",
       " 'quit']"
      ]
     },
     "execution_count": 8,
     "metadata": {},
     "output_type": "execute_result"
    }
   ],
   "source": [
    "# dir = directory of names in the current local scope\n",
    "dir() "
   ]
  },
  {
   "cell_type": "code",
   "execution_count": 9,
   "id": "6c657faf-110b-4d84-ae93-4844b787cd34",
   "metadata": {},
   "outputs": [
    {
     "data": {
      "text/plain": [
       "{'__name__': '__main__',\n",
       " '__doc__': 'Automatically created module for IPython interactive environment',\n",
       " '__package__': None,\n",
       " '__loader__': None,\n",
       " '__spec__': None,\n",
       " '__builtin__': <module 'builtins' (built-in)>,\n",
       " '__builtins__': <module 'builtins' (built-in)>,\n",
       " '_ih': ['',\n",
       "  'Local - only available to other code in this scope. A function, for example, only has access to the names defined in that function or passed into it via arguments',\n",
       "  'class a_sample_class:\\n# basic constructor  - \\n    def __init__(self):\\n        self.var = 0\\n    # an instance method for printing\\n    def print_vars(self):\\n        print(self.var)\\n# create an instance of class\\nobj = a_sample_class()\\n\\n# call instance method to get value for var\\nobj.print_vars()',\n",
       "  '# Constructors\\nclass a_sample_class:\\n# parameterized constructor \\n    def __init__(self, one, two):\\n        self.first = one\\n        self.second = two\\n        \\n    # an instance method for printing\\n    def print_vars(self):\\n        print(self.var)\\n        \\n# create an instance of class \\nobj = a_sample_class(2, 8)\\n\\nobj.print_vars()',\n",
       "  '# Constructors\\nclass a_sample_class:\\n# parameterized constructor \\n    def __init__(self, one, two):\\n        self.first = one\\n        self.second = two\\n        \\n    # an instance method for printing\\n    def print_vars(self):\\n        print(self.first)\\n        \\n# create an instance of class \\nobj = a_sample_class(2, 8)\\n\\nobj.print_vars()',\n",
       "  'class a_sample_class:\\n    class_attr = 5\\n\\n    def __init__(self, one, two):\\n        #instance attribute\\n        self.first = one\\n        self.second = two\\n        \\n# object is an instance of a class\\nobj = a_sample_class(17, 42)\\n\\n#instance attribute as property of object\\nprint(obj.first)\\n\\n#class attribute as property of object\\nprint(obj.class_attr)\\n\\n\\nprint(a_sample_class.first)\\n\\nprint(a_sample_class.class_attr)',\n",
       "  'class a_sample_class:\\n    class_attr = 5\\n\\n    def __init__(self, one, two):\\n        #instance attribute\\n        self.first = one\\n        self.second = two\\n        \\n# object is an instance of a class\\nobj = a_sample_class(17, 42)\\n\\n#instance attribute as property of object\\nprint(obj.first) # <-- prints value\\n\\n#class attribute as property of object\\nprint(obj.class_attr) # <-- print value\\n\\n#instance attribute as property of class\\n#print(a_sample_class.first) # <-- error because the attribute is \\n\\n#class attribute as property of class\\nprint(a_sample_class.class_attr)',\n",
       "  'help(obj)',\n",
       "  '# dir = directory of names in the current local scope\\ndir() ',\n",
       "  'globals()'],\n",
       " '_oh': {8: ['In',\n",
       "   'Out',\n",
       "   '_',\n",
       "   '__',\n",
       "   '___',\n",
       "   '__builtin__',\n",
       "   '__builtins__',\n",
       "   '__doc__',\n",
       "   '__loader__',\n",
       "   '__name__',\n",
       "   '__package__',\n",
       "   '__session__',\n",
       "   '__spec__',\n",
       "   '_dh',\n",
       "   '_i',\n",
       "   '_i1',\n",
       "   '_i2',\n",
       "   '_i3',\n",
       "   '_i4',\n",
       "   '_i5',\n",
       "   '_i6',\n",
       "   '_i7',\n",
       "   '_i8',\n",
       "   '_ih',\n",
       "   '_ii',\n",
       "   '_iii',\n",
       "   '_oh',\n",
       "   'a_sample_class',\n",
       "   'exit',\n",
       "   'get_ipython',\n",
       "   'obj',\n",
       "   'open',\n",
       "   'quit']},\n",
       " '_dh': [PosixPath('/Users/nuritravis/Desktop/csci_1070_materials/nuri_csci_1070/week_03')],\n",
       " 'In': ['',\n",
       "  'Local - only available to other code in this scope. A function, for example, only has access to the names defined in that function or passed into it via arguments',\n",
       "  'class a_sample_class:\\n# basic constructor  - \\n    def __init__(self):\\n        self.var = 0\\n    # an instance method for printing\\n    def print_vars(self):\\n        print(self.var)\\n# create an instance of class\\nobj = a_sample_class()\\n\\n# call instance method to get value for var\\nobj.print_vars()',\n",
       "  '# Constructors\\nclass a_sample_class:\\n# parameterized constructor \\n    def __init__(self, one, two):\\n        self.first = one\\n        self.second = two\\n        \\n    # an instance method for printing\\n    def print_vars(self):\\n        print(self.var)\\n        \\n# create an instance of class \\nobj = a_sample_class(2, 8)\\n\\nobj.print_vars()',\n",
       "  '# Constructors\\nclass a_sample_class:\\n# parameterized constructor \\n    def __init__(self, one, two):\\n        self.first = one\\n        self.second = two\\n        \\n    # an instance method for printing\\n    def print_vars(self):\\n        print(self.first)\\n        \\n# create an instance of class \\nobj = a_sample_class(2, 8)\\n\\nobj.print_vars()',\n",
       "  'class a_sample_class:\\n    class_attr = 5\\n\\n    def __init__(self, one, two):\\n        #instance attribute\\n        self.first = one\\n        self.second = two\\n        \\n# object is an instance of a class\\nobj = a_sample_class(17, 42)\\n\\n#instance attribute as property of object\\nprint(obj.first)\\n\\n#class attribute as property of object\\nprint(obj.class_attr)\\n\\n\\nprint(a_sample_class.first)\\n\\nprint(a_sample_class.class_attr)',\n",
       "  'class a_sample_class:\\n    class_attr = 5\\n\\n    def __init__(self, one, two):\\n        #instance attribute\\n        self.first = one\\n        self.second = two\\n        \\n# object is an instance of a class\\nobj = a_sample_class(17, 42)\\n\\n#instance attribute as property of object\\nprint(obj.first) # <-- prints value\\n\\n#class attribute as property of object\\nprint(obj.class_attr) # <-- print value\\n\\n#instance attribute as property of class\\n#print(a_sample_class.first) # <-- error because the attribute is \\n\\n#class attribute as property of class\\nprint(a_sample_class.class_attr)',\n",
       "  'help(obj)',\n",
       "  '# dir = directory of names in the current local scope\\ndir() ',\n",
       "  'globals()'],\n",
       " 'Out': {8: ['In',\n",
       "   'Out',\n",
       "   '_',\n",
       "   '__',\n",
       "   '___',\n",
       "   '__builtin__',\n",
       "   '__builtins__',\n",
       "   '__doc__',\n",
       "   '__loader__',\n",
       "   '__name__',\n",
       "   '__package__',\n",
       "   '__session__',\n",
       "   '__spec__',\n",
       "   '_dh',\n",
       "   '_i',\n",
       "   '_i1',\n",
       "   '_i2',\n",
       "   '_i3',\n",
       "   '_i4',\n",
       "   '_i5',\n",
       "   '_i6',\n",
       "   '_i7',\n",
       "   '_i8',\n",
       "   '_ih',\n",
       "   '_ii',\n",
       "   '_iii',\n",
       "   '_oh',\n",
       "   'a_sample_class',\n",
       "   'exit',\n",
       "   'get_ipython',\n",
       "   'obj',\n",
       "   'open',\n",
       "   'quit']},\n",
       " 'get_ipython': <bound method InteractiveShell.get_ipython of <ipykernel.zmqshell.ZMQInteractiveShell object at 0x10774bf80>>,\n",
       " 'exit': <IPython.core.autocall.ZMQExitAutocall at 0x10774b920>,\n",
       " 'quit': <IPython.core.autocall.ZMQExitAutocall at 0x10774b920>,\n",
       " 'open': <function _io.open(file, mode='r', buffering=-1, encoding=None, errors=None, newline=None, closefd=True, opener=None)>,\n",
       " '_': ['In',\n",
       "  'Out',\n",
       "  '_',\n",
       "  '__',\n",
       "  '___',\n",
       "  '__builtin__',\n",
       "  '__builtins__',\n",
       "  '__doc__',\n",
       "  '__loader__',\n",
       "  '__name__',\n",
       "  '__package__',\n",
       "  '__session__',\n",
       "  '__spec__',\n",
       "  '_dh',\n",
       "  '_i',\n",
       "  '_i1',\n",
       "  '_i2',\n",
       "  '_i3',\n",
       "  '_i4',\n",
       "  '_i5',\n",
       "  '_i6',\n",
       "  '_i7',\n",
       "  '_i8',\n",
       "  '_ih',\n",
       "  '_ii',\n",
       "  '_iii',\n",
       "  '_oh',\n",
       "  'a_sample_class',\n",
       "  'exit',\n",
       "  'get_ipython',\n",
       "  'obj',\n",
       "  'open',\n",
       "  'quit'],\n",
       " '__': '',\n",
       " '___': '',\n",
       " '__session__': '/Users/nuritravis/Desktop/csci_1070_materials/nuri_csci_1070/week_03/Untitled.ipynb',\n",
       " '_i': '# dir = directory of names in the current local scope\\ndir() ',\n",
       " '_ii': 'help(obj)',\n",
       " '_iii': 'class a_sample_class:\\n    class_attr = 5\\n\\n    def __init__(self, one, two):\\n        #instance attribute\\n        self.first = one\\n        self.second = two\\n        \\n# object is an instance of a class\\nobj = a_sample_class(17, 42)\\n\\n#instance attribute as property of object\\nprint(obj.first) # <-- prints value\\n\\n#class attribute as property of object\\nprint(obj.class_attr) # <-- print value\\n\\n#instance attribute as property of class\\n#print(a_sample_class.first) # <-- error because the attribute is \\n\\n#class attribute as property of class\\nprint(a_sample_class.class_attr)',\n",
       " '_i1': 'Local - only available to other code in this scope. A function, for example, only has access to the names defined in that function or passed into it via arguments',\n",
       " '_i2': 'class a_sample_class:\\n# basic constructor  - \\n    def __init__(self):\\n        self.var = 0\\n    # an instance method for printing\\n    def print_vars(self):\\n        print(self.var)\\n# create an instance of class\\nobj = a_sample_class()\\n\\n# call instance method to get value for var\\nobj.print_vars()',\n",
       " 'a_sample_class': __main__.a_sample_class,\n",
       " 'obj': <__main__.a_sample_class at 0x1086b7ec0>,\n",
       " '_i3': '# Constructors\\nclass a_sample_class:\\n# parameterized constructor \\n    def __init__(self, one, two):\\n        self.first = one\\n        self.second = two\\n        \\n    # an instance method for printing\\n    def print_vars(self):\\n        print(self.var)\\n        \\n# create an instance of class \\nobj = a_sample_class(2, 8)\\n\\nobj.print_vars()',\n",
       " '_i4': '# Constructors\\nclass a_sample_class:\\n# parameterized constructor \\n    def __init__(self, one, two):\\n        self.first = one\\n        self.second = two\\n        \\n    # an instance method for printing\\n    def print_vars(self):\\n        print(self.first)\\n        \\n# create an instance of class \\nobj = a_sample_class(2, 8)\\n\\nobj.print_vars()',\n",
       " '_i5': 'class a_sample_class:\\n    class_attr = 5\\n\\n    def __init__(self, one, two):\\n        #instance attribute\\n        self.first = one\\n        self.second = two\\n        \\n# object is an instance of a class\\nobj = a_sample_class(17, 42)\\n\\n#instance attribute as property of object\\nprint(obj.first)\\n\\n#class attribute as property of object\\nprint(obj.class_attr)\\n\\n\\nprint(a_sample_class.first)\\n\\nprint(a_sample_class.class_attr)',\n",
       " '_i6': 'class a_sample_class:\\n    class_attr = 5\\n\\n    def __init__(self, one, two):\\n        #instance attribute\\n        self.first = one\\n        self.second = two\\n        \\n# object is an instance of a class\\nobj = a_sample_class(17, 42)\\n\\n#instance attribute as property of object\\nprint(obj.first) # <-- prints value\\n\\n#class attribute as property of object\\nprint(obj.class_attr) # <-- print value\\n\\n#instance attribute as property of class\\n#print(a_sample_class.first) # <-- error because the attribute is \\n\\n#class attribute as property of class\\nprint(a_sample_class.class_attr)',\n",
       " '_i7': 'help(obj)',\n",
       " '_i8': '# dir = directory of names in the current local scope\\ndir() ',\n",
       " '_8': ['In',\n",
       "  'Out',\n",
       "  '_',\n",
       "  '__',\n",
       "  '___',\n",
       "  '__builtin__',\n",
       "  '__builtins__',\n",
       "  '__doc__',\n",
       "  '__loader__',\n",
       "  '__name__',\n",
       "  '__package__',\n",
       "  '__session__',\n",
       "  '__spec__',\n",
       "  '_dh',\n",
       "  '_i',\n",
       "  '_i1',\n",
       "  '_i2',\n",
       "  '_i3',\n",
       "  '_i4',\n",
       "  '_i5',\n",
       "  '_i6',\n",
       "  '_i7',\n",
       "  '_i8',\n",
       "  '_ih',\n",
       "  '_ii',\n",
       "  '_iii',\n",
       "  '_oh',\n",
       "  'a_sample_class',\n",
       "  'exit',\n",
       "  'get_ipython',\n",
       "  'obj',\n",
       "  'open',\n",
       "  'quit'],\n",
       " '_i9': 'globals()'}"
      ]
     },
     "execution_count": 9,
     "metadata": {},
     "output_type": "execute_result"
    }
   ],
   "source": [
    "# returns the current module namespace\n",
    "# namespace = mapping between objects and current names. These are defined names\n",
    "# they also inlude information about the objects each name references\n",
    "# reserved words\n",
    "globals()"
   ]
  },
  {
   "cell_type": "markdown",
   "id": "7da4bbda-ab3e-49f6-8095-11c8ff86b795",
   "metadata": {},
   "source": [
    "# Instance, Class, and Static Methods"
   ]
  },
  {
   "cell_type": "code",
   "execution_count": 31,
   "id": "fcc72e2e-eec4-4196-aa1e-ac5702e57b6d",
   "metadata": {},
   "outputs": [],
   "source": [
    "class Candy:\n",
    "    # variables that start with a single underscore are reserved for internal purposes\n",
    "    def __init__(self, _brand, \n",
    "                _is_caramel=False,\n",
    "                _is_chocolate=False, \n",
    "                _is_vegan=False,\n",
    "                _has_nuts=False,\n",
    "                _type='chocolate',\n",
    "                _calories=200,\n",
    "                _size='funsized'):\n",
    "        self.brand = _brand\n",
    "        self._is_caramel = _is_caramel\n",
    "        self._is_chocolate = _is_chocolate\n",
    "        self._is_vegan = _is_vegan\n",
    "        self.has_nuts = _has_nuts\n",
    "        self._calories = _calories\n",
    "        self.type = _type\n",
    "\n",
    "    # class method - used to modify the state of the class (for all instances)\n",
    "    @classmethod # class method decorator\n",
    "    \n",
    "    def snickers(cls): \n",
    "        return cls('Mars', _is_caramel=True, _has_nuts=True, _type='Snickers')\n",
    "\n",
    "    # instance method - can access and modify both the class and instance state\n",
    "    # printing is accessing state\n",
    "    def display(self):\n",
    "        print(f\"My favorite candy is {self.brand} {self.type}\")\n",
    "\n",
    "    # static method - used for comparison or validation\n",
    "    # commonly used in data for checking if data meets particular conditions\n",
    "    # if you want to check the value without needding an instance of it\n",
    "    @staticmethod\n",
    "    def calories(size,n):\n",
    "        if size == 'large':\n",
    "            calories = 500\n",
    "        elif size == 'regular':\n",
    "            calories = 350\n",
    "        elif size == 'funsized':\n",
    "            calories == 100\n",
    "        else: calories = 0\n",
    "\n",
    "        calories = calories*n\n",
    "        return calories\n"
   ]
  },
  {
   "cell_type": "code",
   "execution_count": 22,
   "id": "2795d754-79b8-46f1-a889-c4e0821243dc",
   "metadata": {},
   "outputs": [
    {
     "name": "stdout",
     "output_type": "stream",
     "text": [
      "My favorite candy is Mars Snickers\n"
     ]
    }
   ],
   "source": [
    "snickers_bar = Candy.snickers()\n",
    "snickers_bar.display()"
   ]
  },
  {
   "cell_type": "code",
   "execution_count": 26,
   "id": "3e617801-f704-46b7-b6b9-37628423d706",
   "metadata": {},
   "outputs": [
    {
     "name": "stdout",
     "output_type": "stream",
     "text": [
      "My favorite candy is Hersheys Reeses\n"
     ]
    }
   ],
   "source": [
    "\n",
    "reeses = Candy(_brand='Hersheys', _is_caramel=False, _is_chocolate=True, _has_nuts=True, _type='Reeses')\n",
    "reeses.display()\n"
   ]
  },
  {
   "cell_type": "code",
   "execution_count": 36,
   "id": "19c433c0-ee77-4818-b55a-7b8e8a254437",
   "metadata": {},
   "outputs": [
    {
     "data": {
      "text/plain": [
       "0"
      ]
     },
     "execution_count": 36,
     "metadata": {},
     "output_type": "execute_result"
    }
   ],
   "source": [
    "Candy.calories('funzised', 50)"
   ]
  },
  {
   "cell_type": "code",
   "execution_count": 35,
   "id": "0a38d609-c82c-437d-93d3-69c8a5b4b256",
   "metadata": {},
   "outputs": [
    {
     "name": "stdout",
     "output_type": "stream",
     "text": [
      "decorator is running\n",
      "Hello there!\n",
      "still running\n",
      "decorator is running\n",
      "hello there!\n",
      "still running\n"
     ]
    }
   ],
   "source": [
    "# Decorators\n",
    "def the_decorator(func):\n",
    "    print(\"decorator is running\")\n",
    "    func()\n",
    "    print(\"still running\")\n",
    "\n",
    "def oh_hi():\n",
    "    print(\"Hello there!\")\n",
    "\n",
    "hello = the_decorator(oh_hi)\n",
    "\n",
    "def the_decorator(func):\n",
    "    print(\"decorator is running\")\n",
    "    func()\n",
    "    print(\"still running\")\n",
    "\n",
    "@the_decorator\n",
    "def oh_hi():\n",
    "    print(\"Hello there!\")\n",
    "\n",
    "# these statements do the same thing"
   ]
  },
  {
   "cell_type": "code",
   "execution_count": 2,
   "id": "be6b6903-c35f-45b0-b6ef-f3abc430516d",
   "metadata": {},
   "outputs": [
    {
     "name": "stdout",
     "output_type": "stream",
     "text": [
      "decorator is running\n",
      "hello there!\n",
      "still running\n"
     ]
    }
   ],
   "source": [
    "def the_decorator(func):\n",
    "    print(\"decorator is running\")\n",
    "    func()\n",
    "    print(\"still running\")\n",
    "\n",
    "@the_decorator\n",
    "def oh_hi():\n",
    "    print(\"hello there!\")\n"
   ]
  },
  {
   "cell_type": "markdown",
   "id": "8c5dd7c5-5f47-4e35-b7fa-2e9049417a67",
   "metadata": {},
   "source": [
    "Encapsulation: implementation details are hidden or encapsulated in objects\n",
    "\n",
    "inheritance - child classes can inhereit from parent classes and modules\n",
    "\n",
    "polymorphism - obkects and names exist in many different forms. so, the same attibute or method can exist in multiple classes and mean different things, etc\n",
    "\n",
    "abstraction - handling a concept rather than the implementation details\n"
   ]
  }
 ],
 "metadata": {
  "kernelspec": {
   "display_name": "Python 3 (ipykernel)",
   "language": "python",
   "name": "python3"
  },
  "language_info": {
   "codemirror_mode": {
    "name": "ipython",
    "version": 3
   },
   "file_extension": ".py",
   "mimetype": "text/x-python",
   "name": "python",
   "nbconvert_exporter": "python",
   "pygments_lexer": "ipython3",
   "version": "3.12.5"
  }
 },
 "nbformat": 4,
 "nbformat_minor": 5
}
