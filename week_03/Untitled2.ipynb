{
 "cells": [
  {
   "cell_type": "markdown",
   "id": "9a46215d-baa2-4855-a9ac-d62b124fdb15",
   "metadata": {},
   "source": [
    "# Arrays"
   ]
  },
  {
   "cell_type": "code",
   "execution_count": null,
   "id": "b5d3472b-3f8e-4677-a264-bac6536046cf",
   "metadata": {},
   "outputs": [],
   "source": [
    "Structured lists of numbers \n",
    "    - Vectors\n",
    "    - Matrices\n",
    "    - Images\n",
    "    - Tensors\n",
    "    - ConvNets"
   ]
  }
 ],
 "metadata": {
  "kernelspec": {
   "display_name": "Python 3 (ipykernel)",
   "language": "python",
   "name": "python3"
  },
  "language_info": {
   "codemirror_mode": {
    "name": "ipython",
    "version": 3
   },
   "file_extension": ".py",
   "mimetype": "text/x-python",
   "name": "python",
   "nbconvert_exporter": "python",
   "pygments_lexer": "ipython3",
   "version": "3.12.5"
  }
 },
 "nbformat": 4,
 "nbformat_minor": 5
}
