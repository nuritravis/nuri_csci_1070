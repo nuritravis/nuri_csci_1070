{
 "cells": [
  {
   "cell_type": "markdown",
   "id": "0a5baa66-573e-4452-a674-bfe08f88effc",
   "metadata": {},
   "source": [
    "# Scales of measurement\n",
    "Nominal: Categories that do not have a natural order. Ex. blood type, zip code, race\n",
    "\n",
    "Ordinal: Categories where order matters but the difference between them is neither clear nor even. Ex. Satisfaction scores, happiness level from 1-10 \n",
    "\n",
    "Interval: There is order and the difference between two values is meaningful. Ex. Temperature (Celsius and Fahrenheit), credit scores, pH\n",
    "\n",
    "Ratio: The same as interval except it has a concept of 0. There are no negative numbers. Ex. concentration, Kelvin, weight"
   ]
  },
  {
   "cell_type": "markdown",
   "id": "cde6b3d2-a698-4324-a23e-287ae6df4e64",
   "metadata": {},
   "source": [
    "Central Tendency - represents the center point or \"typical\" value of a dataset"
   ]
  },
  {
   "cell_type": "markdown",
   "id": "c4cb32cb-8b37-455e-88c2-8d5821801d25",
   "metadata": {},
   "source": [
    "As a result, our rule of thumb is to replace null values with the mean when the data is normally distributed and replace null value with the median when the data is skewed"
   ]
  },
  {
   "cell_type": "code",
   "execution_count": null,
   "id": "cbf2209a-a79c-4210-8c7b-4324d50a6654",
   "metadata": {},
   "outputs": [],
   "source": []
  }
 ],
 "metadata": {
  "kernelspec": {
   "display_name": "Python 3 (ipykernel)",
   "language": "python",
   "name": "python3"
  },
  "language_info": {
   "codemirror_mode": {
    "name": "ipython",
    "version": 3
   },
   "file_extension": ".py",
   "mimetype": "text/x-python",
   "name": "python",
   "nbconvert_exporter": "python",
   "pygments_lexer": "ipython3",
   "version": "3.12.5"
  }
 },
 "nbformat": 4,
 "nbformat_minor": 5
}
