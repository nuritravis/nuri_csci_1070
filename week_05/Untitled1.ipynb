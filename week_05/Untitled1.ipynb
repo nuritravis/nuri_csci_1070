{
 "cells": [
  {
   "cell_type": "markdown",
   "id": "17124c40-a078-4d7f-9118-c939549d70b5",
   "metadata": {},
   "source": [
    "# Random Variables"
   ]
  },
  {
   "cell_type": "markdown",
   "id": "5f26deb6-2f2d-4312-97b7-2765463039d8",
   "metadata": {},
   "source": [
    "A random variable, x, is a variable where the possible outcomes are a function of a random phenomena\n",
    "\n",
    " - the probability for any event is between 0 and 1, inclusive\n",
    "   \n",
    " - the summation of the probabilities of each outcome equals one\n"
   ]
  },
  {
   "cell_type": "markdown",
   "id": "84f7171e-6791-4e6c-801d-0332995a7efe",
   "metadata": {},
   "source": [
    "We use a random seed to make sure our results are repeatable across different machines"
   ]
  },
  {
   "cell_type": "markdown",
   "id": "1dd7fd74-9d7a-4e9c-a66f-450c0871ec06",
   "metadata": {},
   "source": [
    "# Discrete and Continuous"
   ]
  },
  {
   "cell_type": "markdown",
   "id": "232f134a-ce1b-49af-8af4-44c87e270fa8",
   "metadata": {},
   "source": [
    "Discrete - concrete, discrete outcomes (ex. amount of rainfall)\n",
    "\n",
    "Continuous - unlimited number of outcomes (ex. number of people in a class)"
   ]
  },
  {
   "cell_type": "markdown",
   "id": "f6b8b543-8f3f-41be-b1af-3b816867a7ad",
   "metadata": {},
   "source": [
    "# Uniform Distribution"
   ]
  },
  {
   "cell_type": "markdown",
   "id": "adf5366a-5267-4ad0-b723-ba237ec4763c",
   "metadata": {},
   "source": [
    "all outcomes have the same probability"
   ]
  },
  {
   "cell_type": "markdown",
   "id": "f6bfd0d4-c532-4c3d-afaa-7cacffb38e82",
   "metadata": {},
   "source": [
    "# Binomial Distribution"
   ]
  },
  {
   "cell_type": "markdown",
   "id": "c0f5325b-c0ba-4cea-a53d-beefe6cd6a9d",
   "metadata": {},
   "source": [
    "a bell curve"
   ]
  },
  {
   "cell_type": "markdown",
   "id": "3560b418-3a5b-4795-9ecd-5670bfbcc111",
   "metadata": {},
   "source": [
    "# Expected Value"
   ]
  },
  {
   "cell_type": "markdown",
   "id": "b4df004f-9fc1-4b8c-badf-d405bfe52457",
   "metadata": {},
   "source": [
    "Law of large numbers: as the sample size increases the sample mean gets closer to the population mean\n",
    "\n",
    "Uniform Distribution: for a random variable, expected value is (a+b)/2, where a is the maximum possible value and b is the minimum\n",
    "\n",
    "Binomial distribution: mean is the expected value, which is equal to n trials * p probability\n",
    "\n",
    "Standard normal distribution: mean is the expected value"
   ]
  },
  {
   "cell_type": "markdown",
   "id": "d1d2e74b-c6bc-419c-b593-083e891bdb2c",
   "metadata": {},
   "source": [
    "# What is the point of creating a random seed in probability?\n",
    "\n",
    "    - to make sure our results are consistent across machines \n",
    "\n",
    "# What is the expected value for the number of heads in 50 trials of coin tosses?\n",
    "\n",
    "    - 25"
   ]
  },
  {
   "cell_type": "markdown",
   "id": "90da4352-729e-48bf-b2ac-667e1717c658",
   "metadata": {},
   "source": [
    "# Cross validation"
   ]
  },
  {
   "cell_type": "markdown",
   "id": "42186451-dc29-43e4-babd-b4f58e1c611c",
   "metadata": {},
   "source": [
    " How we test performance of a machine learning model"
   ]
  },
  {
   "cell_type": "code",
   "execution_count": null,
   "id": "8c2c15a9-abed-4271-920a-58f88e13ac60",
   "metadata": {},
   "outputs": [],
   "source": []
  }
 ],
 "metadata": {
  "kernelspec": {
   "display_name": "Python 3 (ipykernel)",
   "language": "python",
   "name": "python3"
  },
  "language_info": {
   "codemirror_mode": {
    "name": "ipython",
    "version": 3
   },
   "file_extension": ".py",
   "mimetype": "text/x-python",
   "name": "python",
   "nbconvert_exporter": "python",
   "pygments_lexer": "ipython3",
   "version": "3.12.5"
  }
 },
 "nbformat": 4,
 "nbformat_minor": 5
}
