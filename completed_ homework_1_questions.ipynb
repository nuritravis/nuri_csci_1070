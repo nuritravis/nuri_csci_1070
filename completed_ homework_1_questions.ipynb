{
 "cells": [
  {
   "cell_type": "markdown",
   "metadata": {},
   "source": [
    "### Homework 1\n",
    "\n",
    "Skim this Homework before you do your reading assignments. It will help focus your attention. \n",
    "\n",
    "Provide written answers to questions with a `#comment`. \n",
    "\n",
    "Answer the first 8 question **first** to make sure you understand the core concepts. The rest may be completed in any order.\n",
    "\n",
    "Each question is worth one point unless otherwise stated.\n",
    "\n",
    "Please note: I hope this assignment gets you to tinker with Python. I learn a lot by playing around, and it is important to me that you eventually do too!"
   ]
  },
  {
   "cell_type": "markdown",
   "metadata": {},
   "source": [
    "1. How can you get more information about a function or an object from inside a jupyter cell? "
   ]
  },
  {
   "cell_type": "code",
   "execution_count": null,
   "metadata": {},
   "outputs": [],
   "source": [
    "# shift-tab"
   ]
  },
  {
   "cell_type": "markdown",
   "metadata": {},
   "source": [
    "2. How can you determine the data type of an object? Describe one data type and what it is."
   ]
  },
  {
   "cell_type": "code",
   "execution_count": null,
   "metadata": {},
   "outputs": [],
   "source": [
    "x = 1\n",
    "print(type(x)) # would print int in this context\n",
    "# an int is an integer (whole number with no decimal)"
   ]
  },
  {
   "cell_type": "markdown",
   "metadata": {},
   "source": [
    "3. What does assignment mean? Assign a variable named `x` and give it a value of `'yellow'`."
   ]
  },
  {
   "cell_type": "code",
   "execution_count": null,
   "metadata": {},
   "outputs": [],
   "source": [
    "# assignment means to give a variable a stored value\n",
    "x = 'yellow'"
   ]
  },
  {
   "cell_type": "markdown",
   "metadata": {},
   "source": [
    "4. You have an assortment of items you will need to keep track of. What would be a good data structure to keep them in? Provide an example in code. Make sure your code runs!"
   ]
  },
  {
   "cell_type": "code",
   "execution_count": null,
   "metadata": {},
   "outputs": [],
   "source": [
    "#list\n",
    "faces = [\":P\", \":D\", \";)\"]"
   ]
  },
  {
   "cell_type": "markdown",
   "metadata": {},
   "source": [
    "5. You have an assortment of names and telephone numbers. What might be a good data structure to keep them in? Show an example with code. Make sure your code runs!"
   ]
  },
  {
   "cell_type": "code",
   "execution_count": null,
   "metadata": {},
   "outputs": [],
   "source": [
    "# dictionary\n",
    "contacts = {\"nuri\" : 3146814058}"
   ]
  },
  {
   "cell_type": "markdown",
   "metadata": {},
   "source": [
    "6. You need to create a copy of an important list and alter the copy. Why is the following code a bad idea? "
   ]
  },
  {
   "cell_type": "code",
   "execution_count": 1,
   "metadata": {},
   "outputs": [],
   "source": [
    "list1 = [2,4,6]\n",
    "list2 = list1\n",
    "list2[0]= 8"
   ]
  },
  {
   "cell_type": "code",
   "execution_count": null,
   "metadata": {},
   "outputs": [],
   "source": [
    "# when assigning list2 to list1, all you're doing is referencing list1 rather than making an entirely new list"
   ]
  },
  {
   "cell_type": "markdown",
   "metadata": {},
   "source": [
    "7. What is truthy and falsey? Provide a list example **and** a string example of something that is truthy and something that is falsey."
   ]
  },
  {
   "cell_type": "code",
   "execution_count": null,
   "metadata": {},
   "outputs": [],
   "source": [
    "# truthiness or falseyness is determined by the value (or lack of one) of a variable\n",
    "# list examples\n",
    "truthy_list = [1, 2]\n",
    "falsey_list = []\n",
    "# string examples\n",
    "truthy_str = \"lsdkjf\"\n",
    "falsey_str = \"\""
   ]
  },
  {
   "cell_type": "markdown",
   "metadata": {},
   "source": [
    "8. What is the difference between a dynamically typed and statically typed language? \n",
    "\n",
    "Which one is python? \n",
    "\n",
    "When is that a good thing? \n",
    "\n",
    "When is that a bad thing? "
   ]
  },
  {
   "cell_type": "code",
   "execution_count": null,
   "metadata": {},
   "outputs": [],
   "source": [
    "# dynamically typed languages infer the type of a variable when you initialize it, statically typed languages are stricter and make you specify\n",
    "# python is dynamically typed\n",
    "# it can be good when you want the type of a variable to change, like if you had a variable named x and its value was 1, but later it becomes \"one\"\n",
    "# it can be bad when you dont want the value to ever change accidentally"
   ]
  },
  {
   "cell_type": "markdown",
   "metadata": {},
   "source": [
    "9. Here is a [link](https://docs.python.org/3/library/functions.html) to the python `built-in functions`. Choose 2 and give an example of how to use them. "
   ]
  },
  {
   "cell_type": "code",
   "execution_count": null,
   "metadata": {},
   "outputs": [],
   "source": [
    "# len can be used to check the length of a variable\n",
    "# print can be used to print something to the console\n",
    "list = [0, 1, 2, 3]\n",
    "print(len(list)) # prints 4"
   ]
  },
  {
   "cell_type": "markdown",
   "metadata": {},
   "source": [
    "10. What `operator` might help me determine if an integer is even or odd? Provide a code example, and make sure it runs!"
   ]
  },
  {
   "cell_type": "code",
   "execution_count": null,
   "metadata": {},
   "outputs": [],
   "source": [
    "# you can use the modulus operator to check whether or not the given integer % 2 == 0 or if it has a remainder of 1\n",
    "x = 128\n",
    "if x % 2 == 0:\n",
    "    print(\"even\")\n",
    "elif x % 2 == 1:\n",
    "     print(\"odd\")"
   ]
  },
  {
   "cell_type": "markdown",
   "metadata": {},
   "source": [
    "11. What is a python expression? What does an expression evalute to? "
   ]
  },
  {
   "cell_type": "code",
   "execution_count": null,
   "metadata": {},
   "outputs": [],
   "source": [
    "# a python expression is a combination of values and operators that returns a value"
   ]
  },
  {
   "cell_type": "markdown",
   "metadata": {},
   "source": [
    "12. Provide an expression that evaluates which variable is greater. "
   ]
  },
  {
   "cell_type": "code",
   "execution_count": 2,
   "metadata": {},
   "outputs": [],
   "source": [
    "foo = 77\n",
    "bar = 38\n",
    "\n",
    "if foo > bar:\n",
    "    print(\"foo is greater\")\n",
    "elif foo < bar:\n",
    "    print(\"boo is greater\")"
   ]
  },
  {
   "cell_type": "markdown",
   "metadata": {},
   "source": [
    "13. Provide an if statement (inside the provided for loop) that prints 'even' if the number is even, 'odd' if the number is odd, and 'found it!' if the number is 3."
   ]
  },
  {
   "cell_type": "code",
   "execution_count": 4,
   "metadata": {},
   "outputs": [],
   "source": [
    "my_list = [1,2,3,4,5,6,7,8,9]\n",
    "for i in my_list:\n",
    "    if i == 3:\n",
    "        print('found it!')\n",
    "    elif i % 2 == 0:\n",
    "        print('even')\n",
    "    elif i % 2 == 1:\n",
    "        print('odd')\n",
    "    #Your if statement goes here.\n",
    "    #Be sure to indent the statement\n",
    "    #And delete the word 'pass'"
   ]
  },
  {
   "cell_type": "markdown",
   "metadata": {},
   "source": [
    "14. What is the greater than equal to operator? Show a code example of how it is used. "
   ]
  },
  {
   "cell_type": "code",
   "execution_count": null,
   "metadata": {},
   "outputs": [],
   "source": [
    "# >=\n",
    "x = 6\n",
    "if x >= 5:\n",
    "    print('x is greater than or equal to 5')"
   ]
  },
  {
   "cell_type": "markdown",
   "metadata": {},
   "source": [
    "15. What is the floored division operator? Show a code example of how it is used. "
   ]
  },
  {
   "cell_type": "code",
   "execution_count": null,
   "metadata": {},
   "outputs": [],
   "source": [
    "# floor division tells us how many times a given number goes into another number\n",
    "x = 7 // 3\n",
    "print(x) # prints 2"
   ]
  },
  {
   "cell_type": "markdown",
   "metadata": {},
   "source": [
    "16. Why does the following give an error? Show how to fix it."
   ]
  },
  {
   "cell_type": "code",
   "execution_count": 1,
   "metadata": {},
   "outputs": [
    {
     "ename": "SyntaxError",
     "evalue": "invalid decimal literal (445552376.py, line 1)",
     "output_type": "error",
     "traceback": [
      "\u001b[0;36m  Cell \u001b[0;32mIn[1], line 1\u001b[0;36m\u001b[0m\n\u001b[0;31m    2cars = ('Ferarri', 'Mustang')\u001b[0m\n\u001b[0m    ^\u001b[0m\n\u001b[0;31mSyntaxError\u001b[0m\u001b[0;31m:\u001b[0m invalid decimal literal\n"
     ]
    }
   ],
   "source": [
    "2cars = ('Ferarri', 'Mustang')"
   ]
  },
  {
   "cell_type": "code",
   "execution_count": null,
   "metadata": {},
   "outputs": [],
   "source": [
    "two_cars = ('Ferarri', 'Mustang')\n",
    "# variable names cant start with an integer"
   ]
  },
  {
   "cell_type": "markdown",
   "metadata": {},
   "source": [
    "17. Why does this if statement evaluate to true and do what's in the if body? \n",
    "You will see this shortcut a lot and it can be confusing."
   ]
  },
  {
   "cell_type": "code",
   "execution_count": 7,
   "metadata": {},
   "outputs": [
    {
     "name": "stdout",
     "output_type": "stream",
     "text": [
      "Hooray!\n"
     ]
    }
   ],
   "source": [
    "some_list = ['fizz','buzz',1,{'key':'value'}]\n",
    "\n",
    "if some_list:\n",
    "    print('Hooray!')"
   ]
  },
  {
   "cell_type": "code",
   "execution_count": null,
   "metadata": {},
   "outputs": [],
   "source": [
    "# some_list is truthy because it has at least one value (that isnt 0), if it was empty it would be falsey"
   ]
  },
  {
   "cell_type": "markdown",
   "metadata": {},
   "source": [
    "18. Write an expression that raises one number to the power of 8. "
   ]
  },
  {
   "cell_type": "code",
   "execution_count": null,
   "metadata": {},
   "outputs": [],
   "source": [
    "y = (x**8)"
   ]
  },
  {
   "cell_type": "markdown",
   "metadata": {},
   "source": [
    "19. How can you change `my_var` form an `int` to a `str`?"
   ]
  },
  {
   "cell_type": "code",
   "execution_count": 3,
   "metadata": {},
   "outputs": [],
   "source": [
    "my_var = 65"
   ]
  },
  {
   "cell_type": "code",
   "execution_count": null,
   "metadata": {},
   "outputs": [],
   "source": [
    "my_var = str(my_var)"
   ]
  },
  {
   "cell_type": "markdown",
   "metadata": {},
   "source": [
    "20. Slice `some_string` to only include the words `quarter to eight`. "
   ]
  },
  {
   "cell_type": "code",
   "execution_count": 5,
   "metadata": {},
   "outputs": [],
   "source": [
    "some_string = \"I have got a date at a quarter to eight; I'll see you at the gate, so don't be late\""
   ]
  },
  {
   "cell_type": "code",
   "execution_count": null,
   "metadata": {},
   "outputs": [],
   "source": [
    "some_string[23:39]"
   ]
  },
  {
   "cell_type": "markdown",
   "metadata": {},
   "source": [
    "21. Assign a new **variable** `sport` (that you define) to the 3rd element in the list."
   ]
  },
  {
   "cell_type": "code",
   "execution_count": 8,
   "metadata": {},
   "outputs": [],
   "source": [
    "my_favorite_teams= ['Chiefs', 'Cardinals', 'Blues', 'Billikens','Battlehawks', 'No sports ball for me']"
   ]
  },
  {
   "cell_type": "code",
   "execution_count": null,
   "metadata": {},
   "outputs": [],
   "source": [
    "team = \"Sentinels\"\n",
    "my_favorite_teams.insert(2, team)"
   ]
  },
  {
   "cell_type": "markdown",
   "metadata": {},
   "source": [
    "22. What is the use case for the `dir()` method? "
   ]
  },
  {
   "cell_type": "code",
   "execution_count": null,
   "metadata": {},
   "outputs": [],
   "source": [
    "# when you want to see the attributes of an object or the functions in a module"
   ]
  },
  {
   "cell_type": "markdown",
   "metadata": {},
   "source": [
    "23. (3 pts) Write a function that takes in any number and triples it. Give the function a default value if no number is passed in."
   ]
  },
  {
   "cell_type": "code",
   "execution_count": null,
   "metadata": {},
   "outputs": [],
   "source": [
    "def triple(x=0):\n",
    "    print(x * 3)"
   ]
  },
  {
   "cell_type": "markdown",
   "metadata": {},
   "source": [
    "Bonus (2 pts): Iterate through integers_list and print values that are multiples of 9."
   ]
  },
  {
   "cell_type": "code",
   "execution_count": 9,
   "metadata": {},
   "outputs": [],
   "source": [
    "import random\n",
    "integers_list = [random.randint(0,1000) for i in range(50)] # a list comprehension\n",
    "# your code here\n",
    "for n in integers_list:\n",
    "    if n % 9 == 0:\n",
    "        print(n)"
   ]
  },
  {
   "cell_type": "code",
   "execution_count": null,
   "metadata": {},
   "outputs": [],
   "source": []
  }
 ],
 "metadata": {
  "kernelspec": {
   "display_name": "Python 3 (ipykernel)",
   "language": "python",
   "name": "python3"
  },
  "language_info": {
   "codemirror_mode": {
    "name": "ipython",
    "version": 3
   },
   "file_extension": ".py",
   "mimetype": "text/x-python",
   "name": "python",
   "nbconvert_exporter": "python",
   "pygments_lexer": "ipython3",
   "version": "3.12.5"
  }
 },
 "nbformat": 4,
 "nbformat_minor": 4
}
