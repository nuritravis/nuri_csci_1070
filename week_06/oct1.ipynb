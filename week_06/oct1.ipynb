{
 "cells": [
  {
   "cell_type": "markdown",
   "id": "8a11d7ad-8a7f-4c32-9ad6-3cc0f4566b51",
   "metadata": {},
   "source": [
    "# why cant linear regression work for the types of problems we use logistic regression for\n",
    "the outcome is not a probability, just an interpolation."
   ]
  },
  {
   "cell_type": "markdown",
   "id": "d14ef8f4-16a8-40d4-854e-1f7b4637b1b4",
   "metadata": {},
   "source": [
    "# what is complete separation\n",
    "complete separation is when the predictor variable perfectly predicts the outcome variable. its a waste of time to use machine learning in this case, because it will be more time consuming and be less accurate than using conditional logic."
   ]
  }
 ],
 "metadata": {
  "kernelspec": {
   "display_name": "Python 3 (ipykernel)",
   "language": "python",
   "name": "python3"
  },
  "language_info": {
   "codemirror_mode": {
    "name": "ipython",
    "version": 3
   },
   "file_extension": ".py",
   "mimetype": "text/x-python",
   "name": "python",
   "nbconvert_exporter": "python",
   "pygments_lexer": "ipython3",
   "version": "3.12.5"
  }
 },
 "nbformat": 4,
 "nbformat_minor": 5
}
