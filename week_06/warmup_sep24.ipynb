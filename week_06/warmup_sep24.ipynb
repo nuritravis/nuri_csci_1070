{
 "cells": [
  {
   "cell_type": "markdown",
   "id": "b313fa69-58e5-4ea5-9218-2180e147ec9d",
   "metadata": {},
   "source": [
    "# supervised vs unsupervised learning"
   ]
  },
  {
   "cell_type": "markdown",
   "id": "48e80d11-1b34-49ee-b0ca-809c5c13daa2",
   "metadata": {},
   "source": [
    "supervised learning uses labelled input and output data, while raw data is used in unsupervised learning"
   ]
  },
  {
   "cell_type": "markdown",
   "id": "c0317199-10fb-4f15-88e7-978bdaf98710",
   "metadata": {},
   "source": [
    "supervised learning is better when you have an idea what your results should be"
   ]
  },
  {
   "cell_type": "markdown",
   "id": "5a4c4a07-34d3-41ce-96be-6fea6365f82e",
   "metadata": {},
   "source": [
    "unsupervised learning is better when you are trying to solve a more complex problem or are looking for undiscovered patterns in the data\n"
   ]
  },
  {
   "cell_type": "code",
   "execution_count": null,
   "id": "9dec0805-414f-4216-89d6-568f119e9452",
   "metadata": {},
   "outputs": [],
   "source": []
  }
 ],
 "metadata": {
  "kernelspec": {
   "display_name": "Python 3 (ipykernel)",
   "language": "python",
   "name": "python3"
  },
  "language_info": {
   "codemirror_mode": {
    "name": "ipython",
    "version": 3
   },
   "file_extension": ".py",
   "mimetype": "text/x-python",
   "name": "python",
   "nbconvert_exporter": "python",
   "pygments_lexer": "ipython3",
   "version": "3.12.5"
  }
 },
 "nbformat": 4,
 "nbformat_minor": 5
}
