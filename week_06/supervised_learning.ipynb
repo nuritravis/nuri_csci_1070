{
 "cells": [
  {
   "cell_type": "markdown",
   "id": "6abf846e-cf0e-483a-86b6-ba11fe358b42",
   "metadata": {},
   "source": [
    "# Linear Regression"
   ]
  },
  {
   "cell_type": "markdown",
   "id": "687d203f-c6a8-4a99-bb61-f37cc53b6f1d",
   "metadata": {},
   "source": [
    "the purpose of regression is to model and predict the relationship between independent and dependent variables. \n",
    "\n",
    "Univariate - predicts a dependent variable from ONE independent variable\n",
    "\n",
    "mulitiple - predicts a dependent variable from MULTIPLE indendent variables\n",
    "\n",
    "use mean squared error and R^2 to validate model performance"
   ]
  },
  {
   "cell_type": "markdown",
   "id": "152e9690-d311-40e2-b174-d5cacbdd5314",
   "metadata": {},
   "source": [
    "# Mean Squared Error\n",
    "\n",
    "the average distance between the predicted line and the real data points"
   ]
  },
  {
   "cell_type": "markdown",
   "id": "58dc658e-0728-4aab-a7f2-9e9669baab64",
   "metadata": {},
   "source": [
    "# R and R-Squared\n",
    "R is the correlation between two variables\n",
    "\n",
    "R^2 is the correlation squared\n",
    "\n",
    "R^2 represents how close the data is to the regression line OR how well the model fits the raw data\n",
    "\n",
    "R^2 is between 0 and 1, and the closer this value is to 1 the more variability is explained by the model"
   ]
  },
  {
   "cell_type": "markdown",
   "id": "493779c0-fd24-4bea-b691-bbd9f57f62ee",
   "metadata": {},
   "source": [
    "# KNN\n",
    "\n",
    "K-nearest neighbor predicts the group of a datapoint based on majority \"votes\" from nearest neighbors\n",
    "\n",
    "K represents the hyperparameter which indicates how many data points any new datapoint must listen to in order to decide what class it is in\n",
    "\n",
    "Preformance is measured by accuracy\n",
    "\n",
    "    - accuracy is the number of correct predictions divided by total predictions"
   ]
  },
  {
   "cell_type": "markdown",
   "id": "dedafc0d-839d-4724-9964-1f91a9bd5950",
   "metadata": {},
   "source": [
    "# Multiple Linear Regression\n",
    "\n",
    " - predicts a dependent variable from MULTIPLE independent variables. result is a vector\n",
    " - we look at correlations (heatmaps, etc) to know which columns to choose\n",
    " - use mean squared error and R^2 to validate model performance\n",
    " - "
   ]
  },
  {
   "cell_type": "code",
   "execution_count": null,
   "id": "d5fbe1c5-1235-465c-bf62-8d14f1b2b658",
   "metadata": {},
   "outputs": [],
   "source": []
  }
 ],
 "metadata": {
  "kernelspec": {
   "display_name": "Python 3 (ipykernel)",
   "language": "python",
   "name": "python3"
  },
  "language_info": {
   "codemirror_mode": {
    "name": "ipython",
    "version": 3
   },
   "file_extension": ".py",
   "mimetype": "text/x-python",
   "name": "python",
   "nbconvert_exporter": "python",
   "pygments_lexer": "ipython3",
   "version": "3.12.5"
  }
 },
 "nbformat": 4,
 "nbformat_minor": 5
}
