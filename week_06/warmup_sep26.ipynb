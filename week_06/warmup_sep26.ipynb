{
 "cells": [
  {
   "cell_type": "markdown",
   "id": "f9b7facd-9be1-4d7f-9937-996a1a9e5861",
   "metadata": {},
   "source": [
    "# Linear regression\n",
    "\n",
    "Linear regression is used to model and predict the relationship between independent and dependent variables\n",
    "\n",
    "    - linear regression can be used to predict future datapoints or infer missing data (continuous values)\n",
    "     \n",
    "\n",
    "# KNN\n",
    "\n",
    "K-nearest neighbor predicts the group of a datapoint using the \"votes\" of the nearest neighbors\n",
    "\n",
    "    - KNN is used to classify datapoints (discrete values)"
   ]
  },
  {
   "cell_type": "code",
   "execution_count": null,
   "id": "f160f33b-4316-4874-a784-77e7b90267cb",
   "metadata": {},
   "outputs": [],
   "source": []
  }
 ],
 "metadata": {
  "kernelspec": {
   "display_name": "Python 3 (ipykernel)",
   "language": "python",
   "name": "python3"
  },
  "language_info": {
   "codemirror_mode": {
    "name": "ipython",
    "version": 3
   },
   "file_extension": ".py",
   "mimetype": "text/x-python",
   "name": "python",
   "nbconvert_exporter": "python",
   "pygments_lexer": "ipython3",
   "version": "3.12.5"
  }
 },
 "nbformat": 4,
 "nbformat_minor": 5
}
