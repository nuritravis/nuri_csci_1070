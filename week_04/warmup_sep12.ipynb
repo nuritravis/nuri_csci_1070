{
 "cells": [
  {
   "cell_type": "code",
   "execution_count": 1,
   "id": "0b881bf1-d150-48a7-9025-a29868f07ffa",
   "metadata": {},
   "outputs": [],
   "source": [
    "import pandas as pd\n",
    "import numpy as np\n",
    "\n",
    "# modules for statistics: \n",
    "import math\n",
    "import statistics\n",
    "from scipy import stats\n",
    "import matplotlib.pyplot as plt"
   ]
  },
  {
   "cell_type": "code",
   "execution_count": 2,
   "id": "6d201103-5815-4537-9b8e-5a19be5cc4f7",
   "metadata": {},
   "outputs": [],
   "source": [
    "df = pd.read_csv('belize_airbnb_listings.csv')"
   ]
  },
  {
   "cell_type": "code",
   "execution_count": 9,
   "id": "4f9385ed-a82e-48cb-b6ec-c4516fea2eb8",
   "metadata": {},
   "outputs": [
    {
     "data": {
      "text/plain": [
       "5.669843208294997"
      ]
     },
     "execution_count": 9,
     "metadata": {},
     "output_type": "execute_result"
    }
   ],
   "source": [
    "min_nights = statistics.stdev(df['minimum_nights'])\n",
    "min_nights"
   ]
  },
  {
   "cell_type": "code",
   "execution_count": 10,
   "id": "6b9c9ce5-7c17-4fa1-880b-5c2eb62431de",
   "metadata": {},
   "outputs": [
    {
     "data": {
      "text/plain": [
       "30.327767940997244"
      ]
     },
     "execution_count": 10,
     "metadata": {},
     "output_type": "execute_result"
    }
   ],
   "source": [
    "reviews = statistics.stdev(df['number_of_reviews'])\n",
    "reviews"
   ]
  },
  {
   "cell_type": "code",
   "execution_count": null,
   "id": "eb19d509-d74f-4c45-950e-eabc28c67a49",
   "metadata": {},
   "outputs": [],
   "source": [
    "# the results indicate that: \n",
    "# the minimum amount of nights you can book an airbnb is 1 \n",
    "# the standard deviation being ~30 means that each value is about 30 from the mean on average"
   ]
  }
 ],
 "metadata": {
  "kernelspec": {
   "display_name": "Python 3 (ipykernel)",
   "language": "python",
   "name": "python3"
  },
  "language_info": {
   "codemirror_mode": {
    "name": "ipython",
    "version": 3
   },
   "file_extension": ".py",
   "mimetype": "text/x-python",
   "name": "python",
   "nbconvert_exporter": "python",
   "pygments_lexer": "ipython3",
   "version": "3.12.5"
  }
 },
 "nbformat": 4,
 "nbformat_minor": 5
}
