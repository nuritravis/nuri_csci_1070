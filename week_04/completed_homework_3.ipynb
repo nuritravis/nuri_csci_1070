{
 "cells": [
  {
   "cell_type": "markdown",
   "metadata": {},
   "source": [
    "### Homework 3 Numpy Arrays and Pandas\n",
    "\n",
    "1. Open `cars.csv` in jupyter and look at the data. (Double click `cars.csv` to open in a new tab).\n",
    "2. We are converting each **column** into a numpy array.\n",
    "3. Notice we have text, integer and float data. \n",
    "4. Take care not to overwrite your starter code."
   ]
  },
  {
   "cell_type": "code",
   "execution_count": 20,
   "metadata": {},
   "outputs": [],
   "source": [
    "#Starter code. Do NOT modify this cell\n",
    "import pandas as pd\n",
    "import numpy as np\n",
    "\n",
    "# Read in dataset\n",
    "df = pd.read_csv('cars.csv',delimiter=';')\n",
    "\n",
    "# Convert each column to an np.array\n",
    "car = df.Car.to_numpy()\n",
    "mpg = df.MPG.to_numpy()\n",
    "cylinders = df.Cylinders.to_numpy()\n",
    "displacement = df.Displacement.to_numpy()\n",
    "horsepower = df.Horsepower.to_numpy()\n",
    "weight = df.Weight.to_numpy()\n",
    "acceleration = df.Acceleration.to_numpy()\n",
    "model = df.Model.to_numpy()\n",
    "origin = df.Origin.to_numpy()\n",
    "\n",
    "# create an array of headers\n",
    "headers = np.array(['Car', 'MPG', 'Cylinders', 'Displacement', 'Horsepower', 'Weight','Acceleration', 'Model', 'Origin'])\n"
   ]
  },
  {
   "cell_type": "markdown",
   "metadata": {},
   "source": [
    "1. (2 pts) What are the numpy datatypes for the `car`,`mpg`, `horsepower` and `origin` arrays? (Hint: Not `type(car)` and use `print()` to print the numpy type.)"
   ]
  },
  {
   "cell_type": "code",
   "execution_count": 21,
   "metadata": {},
   "outputs": [
    {
     "name": "stdout",
     "output_type": "stream",
     "text": [
      "object\n",
      "float64\n",
      "float64\n",
      "object\n"
     ]
    }
   ],
   "source": [
    "print(car.dtype)\n",
    "print(mpg.dtype)\n",
    "print(horsepower.dtype)\n",
    "print(origin.dtype)"
   ]
  },
  {
   "cell_type": "markdown",
   "metadata": {},
   "source": [
    "2. (1 pt) `numpy` is often imported as `np`. What is this action called? Why might you do this? "
   ]
  },
  {
   "cell_type": "code",
   "execution_count": 22,
   "metadata": {},
   "outputs": [],
   "source": [
    "# the action is aliasing\n",
    "# you might do this for simplicity and consistency whenever you call a numpy function"
   ]
  },
  {
   "cell_type": "markdown",
   "metadata": {},
   "source": [
    "3. (2 pts) Each of the arrays (cars, mpg, cylinders, etc..) has how many dimensions? Show how to find this using code. "
   ]
  },
  {
   "cell_type": "code",
   "execution_count": 23,
   "metadata": {},
   "outputs": [
    {
     "name": "stdout",
     "output_type": "stream",
     "text": [
      "1\n",
      "1\n",
      "1\n",
      "1\n",
      "1\n",
      "1\n",
      "1\n",
      "1\n",
      "1\n"
     ]
    }
   ],
   "source": [
    "for i in df.columns:\n",
    "    print(df[i].ndim)"
   ]
  },
  {
   "cell_type": "markdown",
   "metadata": {},
   "source": [
    "4. (3 pts) What is the ___ of `horsepower`?\n",
    "- sum\n",
    "- min\n",
    "- max\n",
    "- median\n",
    "- Optional: mode (May need to google help) (1 pt extra credit)"
   ]
  },
  {
   "cell_type": "code",
   "execution_count": 24,
   "metadata": {},
   "outputs": [
    {
     "data": {
      "text/plain": [
       "(Horsepower    42033.0\n",
       " dtype: float64,\n",
       " Horsepower    0.0\n",
       " dtype: float64,\n",
       " Horsepower    230.0\n",
       " dtype: float64,\n",
       " Horsepower    93.5\n",
       " dtype: float64,\n",
       "    Horsepower\n",
       " 0       150.0)"
      ]
     },
     "execution_count": 24,
     "metadata": {},
     "output_type": "execute_result"
    }
   ],
   "source": [
    "hp_sum = df[[\"Horsepower\"]].sum()\n",
    "hp_min = df[[\"Horsepower\"]].min()\n",
    "hp_max = df[[\"Horsepower\"]].max()\n",
    "hp_median = df[[\"Horsepower\"]].median()\n",
    "hp_mode = df[[\"Horsepower\"]].mode()\n",
    "\n",
    "hp_sum, hp_min, hp_max, hp_median, hp_mode     "
   ]
  },
  {
   "cell_type": "markdown",
   "metadata": {},
   "source": [
    "5. (2 pts) Select the last element in each subarray (do this with one operation.)"
   ]
  },
  {
   "cell_type": "code",
   "execution_count": 25,
   "metadata": {},
   "outputs": [],
   "source": [
    "select_more = np.array([[1,2,3],\n",
    "                      [4,5,6],\n",
    "                      [7,8,9]])\n",
    "# returns array([3, 6, 9])"
   ]
  },
  {
   "cell_type": "code",
   "execution_count": 26,
   "metadata": {},
   "outputs": [
    {
     "data": {
      "text/plain": [
       "array([3, 6, 9])"
      ]
     },
     "execution_count": 26,
     "metadata": {},
     "output_type": "execute_result"
    }
   ],
   "source": [
    "last_columns = select_more[ :, -1 ]\n",
    "last_columns"
   ]
  },
  {
   "cell_type": "markdown",
   "metadata": {},
   "source": [
    "6. (2 pts) Use the built-in `np.lookfor()` function to search for `'log'`.\n",
    "\n",
    "Use the function you find and apply it to `mpg`."
   ]
  },
  {
   "cell_type": "code",
   "execution_count": 56,
   "metadata": {},
   "outputs": [
    {
     "name": "stderr",
     "output_type": "stream",
     "text": [
      "/var/folders/lj/hkhcwb916w11w9xnvrlgd9nw0000gn/T/ipykernel_6767/67066281.py:1: RuntimeWarning: divide by zero encountered in log\n",
      "  np.log(mpg)\n"
     ]
    },
    {
     "data": {
      "text/plain": [
       "array([2.89037176, 2.7080502 , 2.89037176, 2.77258872, 2.83321334,\n",
       "       2.7080502 , 2.63905733, 2.63905733, 2.63905733, 2.7080502 ,\n",
       "             -inf,       -inf,       -inf,       -inf,       -inf,\n",
       "       2.7080502 , 2.63905733,       -inf, 2.7080502 , 2.63905733,\n",
       "       3.17805383, 3.09104245, 2.89037176, 3.04452244, 3.29583687,\n",
       "       3.25809654, 3.21887582, 3.17805383, 3.21887582, 3.25809654,\n",
       "       3.04452244, 2.30258509, 2.30258509, 2.39789527, 2.19722458,\n",
       "       3.29583687, 3.33220451, 3.21887582, 3.21887582,       -inf,\n",
       "       2.94443898, 2.77258872, 2.83321334, 2.94443898, 2.89037176,\n",
       "       2.63905733, 2.63905733, 2.63905733, 2.63905733, 2.48490665,\n",
       "       2.56494936, 2.56494936, 2.89037176, 3.09104245, 2.94443898,\n",
       "       2.89037176, 3.13549422, 3.33220451, 3.40119738, 3.40119738,\n",
       "       3.4339872 , 3.55534806, 3.29583687, 3.25809654, 3.17805383,\n",
       "       3.21887582, 3.13549422, 2.99573227, 3.04452244, 2.56494936,\n",
       "       2.63905733, 2.7080502 , 2.63905733, 2.83321334, 2.39789527,\n",
       "       2.56494936, 2.48490665, 2.56494936, 2.94443898, 2.7080502 ,\n",
       "       2.56494936, 2.56494936, 2.63905733, 2.89037176, 3.09104245,\n",
       "       3.04452244, 3.25809654, 3.09104245, 3.33220451, 3.13549422,\n",
       "       3.33220451, 3.29583687, 2.56494936, 2.63905733, 2.56494936,\n",
       "       2.63905733, 2.7080502 , 2.48490665, 2.56494936, 2.56494936,\n",
       "       2.63905733, 2.56494936, 2.48490665, 2.56494936, 2.89037176,\n",
       "       2.77258872, 2.89037176, 2.89037176, 3.13549422, 3.25809654,\n",
       "       2.39789527, 2.48490665, 2.56494936, 2.48490665, 2.89037176,\n",
       "       2.99573227, 3.04452244, 3.09104245, 2.89037176, 2.94443898,\n",
       "       3.04452244, 3.25809654, 2.7080502 , 2.77258872, 3.36729583,\n",
       "       3.17805383, 2.99573227, 2.94443898, 2.7080502 , 3.17805383,\n",
       "       2.99573227, 2.39789527, 2.99573227, 3.04452244, 2.94443898,\n",
       "       2.7080502 , 3.4339872 , 3.25809654, 3.4657359 , 3.21887582,\n",
       "       2.77258872, 2.77258872, 2.89037176, 2.77258872, 2.56494936,\n",
       "       2.63905733, 2.63905733, 2.63905733, 3.36729583, 3.25809654,\n",
       "       3.25809654, 3.4339872 , 3.4657359 , 3.33220451, 3.17805383,\n",
       "       3.25809654, 3.17805383, 3.25809654, 3.4339872 , 2.94443898,\n",
       "       2.89037176, 2.7080502 , 2.7080502 , 2.77258872, 2.7080502 ,\n",
       "       2.77258872, 2.63905733, 2.83321334, 2.77258872, 2.7080502 ,\n",
       "       2.89037176, 3.04452244, 2.99573227, 2.56494936, 3.36729583,\n",
       "       3.13549422, 2.99573227, 3.13549422, 3.17805383, 3.21887582,\n",
       "       3.17805383, 2.89037176, 3.36729583, 2.94443898, 3.13549422,\n",
       "       3.13549422, 3.09104245, 3.21887582, 3.49650756, 3.33220451,\n",
       "       3.21887582, 3.21887582, 3.25809654, 3.29583687, 2.86220088,\n",
       "       2.77258872, 2.74084002, 2.67414865, 3.09104245, 3.09104245,\n",
       "       3.17805383, 3.11351531, 3.36729583, 3.19867312, 3.36729583,\n",
       "       3.49650756, 2.99573227, 2.89037176, 2.91777073, 2.86220088,\n",
       "       3.38439026, 3.4657359 , 3.33220451, 3.27714473, 2.99573227,\n",
       "       2.56494936, 2.94443898, 2.94443898, 2.80336038, 2.80336038,\n",
       "       2.56494936, 2.56494936, 2.56494936, 3.44998755, 3.40119738,\n",
       "       3.58351894, 3.23867845, 3.51154544, 2.86220088, 2.83321334,\n",
       "       2.74084002, 2.7080502 , 2.86220088, 3.02042489, 2.94443898,\n",
       "       2.91777073, 2.77258872, 2.74084002, 2.74084002, 2.77258872,\n",
       "       3.36729583, 3.19867312, 3.25809654, 3.23867845, 3.41772668,\n",
       "       3.51154544, 3.40119738, 3.41772668, 3.09104245, 3.06805294,\n",
       "       3.06805294, 3.763523  , 3.58629287, 3.49042852, 3.67376582,\n",
       "       3.58629287, 2.99071973, 2.96527307, 3.0056826 , 2.95491028,\n",
       "       3.02042489, 3.0056826 , 3.22286785, 3.02042489, 2.96527307,\n",
       "       3.02529108, 3.03495299, 2.92316158, 2.89591194, 2.95491028,\n",
       "       2.87356464, 2.89591194, 2.86220088, 3.40119738, 3.314186  ,\n",
       "       3.30321697, 3.43075618, 3.04927304, 3.14415228, 3.16968558,\n",
       "       3.17387846, 3.01062089, 2.83321334, 3.07269331, 2.78501124,\n",
       "       3.44998755, 3.38439026, 3.06805294, 2.98568194, 3.10458668,\n",
       "       3.0056826 , 3.02529108, 2.83321334, 2.8678989 , 2.80336038,\n",
       "       2.90142159, 2.82731362, 2.74084002, 2.95491028, 2.91777073,\n",
       "       3.46260601, 3.52929738, 3.57515069, 3.31054301, 3.23474917,\n",
       "       3.13549422, 3.30321697, 3.17387846, 3.53222564, 3.54095932,\n",
       "       3.45946629, 3.61899333, 3.34638915, 3.36037539, 3.28840189,\n",
       "       3.51154544, 3.72569343, 3.64021428, 3.46885603, 3.61630876,\n",
       "       3.33220451, 3.27336401, 3.19047635, 2.94968834, 3.53514535,\n",
       "       3.39450839, 3.4436181 , 3.61091791, 3.47196645, 3.84160054,\n",
       "       3.32862669, 3.70868208, 3.79098468, 3.77045944, 3.59456877,\n",
       "       3.40119738, 3.79773386, 3.71113006, 3.5204608 , 3.39450839,\n",
       "       3.48737508, 3.16547505, 3.55534806, 3.16124671, 3.47815842,\n",
       "       3.30321697, 3.28091122, 3.25037449, 3.15700042, 3.40119738,\n",
       "       3.66612247, 3.66356165, 3.55820113, 3.47506723, 3.61091791,\n",
       "       3.62966009, 3.52929738, 3.54673969, 3.53805656, 3.39785848,\n",
       "       3.49650756, 3.54095932, 3.51749784, 3.47815842, 3.49347266,\n",
       "       3.45315712, 3.33576958,       -inf, 3.42426265, 3.23474917,\n",
       "       3.18635263, 3.10906096, 3.28091122, 3.0056826 , 2.8678989 ,\n",
       "       3.33220451, 3.29583687, 3.52636052, 3.4339872 , 3.36729583,\n",
       "       3.29583687, 3.17805383, 3.13549422, 3.58351894, 3.61091791,\n",
       "       3.4339872 , 3.63758616, 3.58351894, 3.58351894, 3.58351894,\n",
       "       3.52636052, 3.63758616, 3.4657359 , 3.63758616, 3.21887582,\n",
       "       3.63758616, 3.25809654, 3.09104245, 3.4657359 , 3.58351894,\n",
       "       3.29583687, 3.29583687, 3.78418963, 3.4657359 , 3.33220451,\n",
       "       3.4339872 ])"
      ]
     },
     "execution_count": 56,
     "metadata": {},
     "output_type": "execute_result"
    }
   ],
   "source": [
    "# np.lookfor doesnt exist past numpy v2.0\n",
    "np.log(mpg)"
   ]
  },
  {
   "cell_type": "markdown",
   "metadata": {},
   "source": [
    "7. (2 pts) Use boolean indexing to create an array of `True/False` using `origin` and the value 'US'."
   ]
  },
  {
   "cell_type": "code",
   "execution_count": 49,
   "metadata": {
    "scrolled": true
   },
   "outputs": [
    {
     "data": {
      "text/plain": [
       "0       True\n",
       "1       True\n",
       "2       True\n",
       "3       True\n",
       "4       True\n",
       "       ...  \n",
       "401     True\n",
       "402    False\n",
       "403     True\n",
       "404     True\n",
       "405     True\n",
       "Name: Origin, Length: 406, dtype: bool"
      ]
     },
     "execution_count": 49,
     "metadata": {},
     "output_type": "execute_result"
    }
   ],
   "source": [
    "us_bool = df['Origin'] == 'US'\n",
    "origin_bool"
   ]
  },
  {
   "cell_type": "markdown",
   "metadata": {},
   "source": [
    "8. (2 pts) Apply your index (from above) to the `car` array. You should now only see cars that are of US origin. "
   ]
  },
  {
   "cell_type": "code",
   "execution_count": 51,
   "metadata": {},
   "outputs": [
    {
     "data": {
      "text/plain": [
       "array(['Chevrolet Chevelle Malibu', 'Buick Skylark 320',\n",
       "       'Plymouth Satellite', 'AMC Rebel SST', 'Ford Torino',\n",
       "       'Ford Galaxie 500', 'Chevrolet Impala', 'Plymouth Fury iii',\n",
       "       'Pontiac Catalina', 'AMC Ambassador DPL',\n",
       "       'Chevrolet Chevelle Concours (sw)', 'Ford Torino (sw)',\n",
       "       'Plymouth Satellite (sw)', 'AMC Rebel SST (sw)',\n",
       "       'Dodge Challenger SE', \"Plymouth 'Cuda 340\",\n",
       "       'Ford Mustang Boss 302', 'Chevrolet Monte Carlo',\n",
       "       'Buick Estate Wagon (sw)', 'Plymouth Duster', 'AMC Hornet',\n",
       "       'Ford Maverick', 'AMC Gremlin', 'Ford F250', 'Chevy C20',\n",
       "       'Dodge D200', 'Hi 1200D', 'Chevrolet Vega 2300', 'Ford Pinto',\n",
       "       'AMC Gremlin', 'Plymouth Satellite Custom',\n",
       "       'Chevrolet Chevelle Malibu', 'Ford Torino 500', 'AMC Matador',\n",
       "       'Chevrolet Impala', 'Pontiac Catalina Brougham',\n",
       "       'Ford Galaxie 500', 'Plymouth Fury iii', 'Dodge Monaco (sw)',\n",
       "       'Ford Country Squire (sw)', 'Pontiac Safari (sw)',\n",
       "       'AMC Hornet Sportabout (sw)', 'Chevrolet Vega (sw)',\n",
       "       'Pontiac Firebird', 'Ford Mustang', 'Mercury Capri 2000',\n",
       "       'Plymouth Cricket', 'Dodge Colt Hardtop', 'Chevrolet Vega',\n",
       "       'Ford Pinto Runabout', 'Chevrolet Impala', 'Pontiac Catalina',\n",
       "       'Plymouth Fury III', 'Ford Galaxie 500', 'AMC Ambassador SST',\n",
       "       'Mercury Marquis', 'Buick LeSabre Custom',\n",
       "       'Oldsmobile Delta 88 Royale', 'Chrysler Newport Royal',\n",
       "       'AMC Matador (sw)', 'Chevrolet Chevelle Concours (sw)',\n",
       "       'Ford Gran Torino (sw)', 'Plymouth Satellite Custom (sw)',\n",
       "       'Ford Pinto (sw)', 'Dodge Colt (sw)', 'Buick Century 350',\n",
       "       'AMC Matador', 'Chevrolet Malibu', 'Ford Gran Torino',\n",
       "       'Dodge Coronet Custom', 'Mercury Marquis Brougham',\n",
       "       'Chevrolet Caprice Classic', 'Ford LTD',\n",
       "       'Plymouth Fury Gran Sedan', 'Chrysler New Yorker Brougham',\n",
       "       'Buick Electra 225 Custom', 'AMC Ambassador Brougham',\n",
       "       'Plymouth Valiant', 'Chevrolet Nova Custom', 'AMC Hornet',\n",
       "       'Ford Maverick', 'Plymouth Duster', 'Chevrolet Impala',\n",
       "       'Ford Country', 'Plymouth Custom Suburb',\n",
       "       'Oldsmobile Vista Cruiser', 'AMC Gremlin', 'Chevrolet Vega',\n",
       "       'Ford Pinto', 'Mercury Capri v6', 'Chevrolet Monte Carlo S',\n",
       "       'Pontiac Grand Prix', 'Dodge Dart Custom', 'Oldsmobile Omega',\n",
       "       'Plymouth Duster', 'Ford Maverick', 'AMC Hornet', 'Chevrolet Nova',\n",
       "       'Ford Pinto', 'Chevrolet Vega',\n",
       "       'Chevrolet Chevelle Malibu Classic', 'AMC Matador',\n",
       "       'Plymouth Satellite Sebring', 'Ford Gran Torino',\n",
       "       'Buick Century Luxus (sw)', 'Dodge Coronet Custom (sw)',\n",
       "       'Ford Gran Torino (sw)', 'AMC Matador (sw)', 'Dodge Colt',\n",
       "       'Plymouth Valiant Custom', 'Chevrolet Nova', 'Mercury Monarch',\n",
       "       'Ford Maverick', 'Pontiac Catalina', 'Chevrolet Bel Air',\n",
       "       'Plymouth Grand Fury', 'Ford LTD', 'Buick Century',\n",
       "       'Chevrolete Chevelle Malibu', 'AMC Matador', 'Plymouth Fury',\n",
       "       'Buick Skyhawk', 'Chevrolet Monza 2+2', 'Ford Mustang II',\n",
       "       'Ford Pinto', 'AMC Gremlin', 'Pontiac Astro', 'Ford Pinto',\n",
       "       'AMC Pacer', 'Capri ii', 'Dodge Colt',\n",
       "       'Chevrolet Chevelle Malibu Classic', 'Dodge Coronet Brougham',\n",
       "       'AMC Matador', 'Ford Gran Torino', 'Plymouth Valiant',\n",
       "       'Chevrolet Nova', 'Ford Maverick', 'AMC Hornet',\n",
       "       'Chevrolet Chevette', 'Chevrolet Woody', 'Dodge Aspen SE',\n",
       "       'Ford Grenada ghia', 'Pontiac Ventura SJ', 'AMC Pacer d/l',\n",
       "       'Ford Pinto', 'Plymouth Volare Premier v8', 'Cadillac Seville',\n",
       "       'Chevrolet C10', 'Ford F108', 'Dodge D100',\n",
       "       'Buick Opel Isuzu Deluxe', 'Plymouth Arrow GS',\n",
       "       'Chevrolet Caprice Classic', 'Oldsmobile Cutlass Supreme',\n",
       "       'Dodge Monaco Brougham', 'Mercury Cougar Brougham',\n",
       "       'Chevrolet Concours', 'Buick Skylark', 'Plymouth Volare Custom',\n",
       "       'Ford Grenada', 'Pontiac Grand Prix LJ',\n",
       "       'Chevrolet Monte Carlo Landau', 'Chrysler Cordoba',\n",
       "       'Ford Thunderbird', 'Pontiac Sunbird Coupe', 'Ford Mustang II 2+2',\n",
       "       'Chevrolet Chevette', 'Dodge Colt m/m', 'Ford Fiesta',\n",
       "       'Oldsmobile Cutlass Salon Brougham', 'Dodge Diplomat',\n",
       "       'Mercury Monarch ghia', 'Pontiac Phoenix LJ', 'Chevrolet Malibu',\n",
       "       'Ford Fairmont (auto)', 'Ford Fairmont (man)', 'Plymouth Volare',\n",
       "       'AMC Concord', 'Buick Century Special', 'Mercury Zephyr',\n",
       "       'Dodge Aspen', 'AMC Concord d/l', 'Chevrolet Monte Carlo Landau',\n",
       "       'Buick Regal Sport Coupe (turbo)', 'Ford Futura',\n",
       "       'Dodge Magnum XE', 'Chevrolet Chevette', 'Dodge Omni',\n",
       "       'Plymouth Sapporo', 'Oldsmobile Starfire SX', 'Pontiac Lemans V6',\n",
       "       'Mercury Zephyr 6', 'Ford Fairmont 4', 'AMC Concord DL 6',\n",
       "       'Dodge Aspen 6', 'Chevrolet Caprice Classic', 'Ford LTD Landau',\n",
       "       'Mercury Grand Marquis', 'Dodge St. Regis',\n",
       "       'Buick Estate Wagon (sw)', 'Ford Country Squire (sw)',\n",
       "       'Chevrolet Malibu Classic (sw)',\n",
       "       'Chrysler Lebaron Town @ Country (sw)',\n",
       "       'Dodge Colt Hatchback Custom', 'AMC Spirit DL',\n",
       "       'Cadillac Eldorado', 'Oldsmobile Cutlass Salon Brougham',\n",
       "       'Plymouth Horizon', 'Plymouth Horizon TC3',\n",
       "       'Buick Skylark Limited', 'Chevrolet Citation',\n",
       "       'Oldsmobile Omega Brougham', 'Pontiac Phoenix',\n",
       "       'Chevrolet Chevette', 'Chevrolet Citation', 'Ford Fairmont',\n",
       "       'AMC Concord', 'Dodge Aspen', 'Dodge Colt', 'Ford Mustang Cobra',\n",
       "       'Plymouth Reliant', 'Buick Skylark', 'Dodge Aries Wagon (sw)',\n",
       "       'Chevrolet Citation', 'Plymouth Reliant', 'Plymouth Champ',\n",
       "       'Plymouth Horizon 4', 'Ford Escort 4W', 'Ford Escort 2H',\n",
       "       'Buick Century', 'Oldsmobile Cutlass LS', 'Ford Grenada gl',\n",
       "       'Chrysler Lebaron Salon', 'Chevrolet Cavalier',\n",
       "       'Chevrolet Cavalier Wagon', 'Chevrolet Cavalier 2-door',\n",
       "       'Pontiac J2000 SE Hatchback', 'Dodge Aries SE', 'Pontiac Phoenix',\n",
       "       'Ford Fairmont Futura', 'AMC Concord DL', 'Plymouth Horizon Miser',\n",
       "       'Mercury Lynx l', 'Buick Century Limited',\n",
       "       'Oldsmobile Cutlass Ciera (diesel)', 'Chrysler Lebaron Medallion',\n",
       "       'Ford Grenada l', 'Dodge Charger 2.2', 'Chevrolet Camaro',\n",
       "       'Ford Mustang GL', 'Dodge Rampage', 'Ford Ranger', 'Chevy S-10'],\n",
       "      dtype=object)"
      ]
     },
     "execution_count": 51,
     "metadata": {},
     "output_type": "execute_result"
    }
   ],
   "source": [
    "car[origin_bool]"
   ]
  },
  {
   "cell_type": "markdown",
   "metadata": {},
   "source": [
    "### Use numpy or pandas to answer the following questions."
   ]
  },
  {
   "cell_type": "markdown",
   "metadata": {},
   "source": [
    "9. (3 pts) What is the average horsepower for `Europe` cars? (Hint: create a boolean index of 'US' apply it to horsepower and perform the calculation.)"
   ]
  },
  {
   "cell_type": "code",
   "execution_count": 54,
   "metadata": {},
   "outputs": [
    {
     "data": {
      "text/plain": [
       "np.float64(78.78082191780823)"
      ]
     },
     "execution_count": 54,
     "metadata": {},
     "output_type": "execute_result"
    }
   ],
   "source": [
    "eu_bool = df['Origin'] == 'Europe'\n",
    "horsepower[eu_bool].mean()\n",
    "# 78.78082191780823"
   ]
  },
  {
   "cell_type": "markdown",
   "metadata": {},
   "source": [
    "10. (3 pts) On average are Japanese cars more fuel-efficient than US cars? Show the code that you used to determine this.  "
   ]
  },
  {
   "cell_type": "code",
   "execution_count": 28,
   "metadata": {},
   "outputs": [
    {
     "data": {
      "text/plain": [
       "(MPG    19.688189\n",
       " dtype: float64,\n",
       " MPG    30.450633\n",
       " dtype: float64)"
      ]
     },
     "execution_count": 28,
     "metadata": {},
     "output_type": "execute_result"
    }
   ],
   "source": [
    "country_df = df.set_index('Origin')\n",
    "\n",
    "jp_df = country_df.loc[['Japan'], : ]\n",
    "jp_mileage = jp_df[['MPG']].mean()\n",
    "\n",
    "us_df = country_df.loc[['US'], : ]\n",
    "us_mileage = us_df[['MPG']].mean()\n",
    "\n",
    "us_mileage, jp_mileage # 19.688189 < 30.450633 -> japanese cars are more fuel-efficient"
   ]
  },
  {
   "cell_type": "markdown",
   "metadata": {},
   "source": [
    "11. (3 pts) What is the correlation coefficient of `mpg` and `weight`? What is a correlation coefficient? What does the result indicate about the relationship between mpg and weight? "
   ]
  },
  {
   "cell_type": "code",
   "execution_count": 43,
   "metadata": {},
   "outputs": [
    {
     "data": {
      "text/plain": [
       "array([[ 1.        , -0.78750994],\n",
       "       [-0.78750994,  1.        ]])"
      ]
     },
     "execution_count": 43,
     "metadata": {},
     "output_type": "execute_result"
    }
   ],
   "source": [
    "correlation = np.corrcoef(mpg, weight)\n",
    "correlation\n",
    "\n",
    "# the correlation coefficient is -0.78750994\n",
    "# the corrcoef is the strength of the linear relationship between two variables\n",
    "# the result indicates a strong inverse relationship between mpg and weight, heavier cars are less fuel efficient and vice versa"
   ]
  },
  {
   "cell_type": "markdown",
   "metadata": {},
   "source": [
    "Extra credit: (3 pts) Create a new pandas dataframe that has the average mpg, weight, and horsepower per country of origin"
   ]
  },
  {
   "cell_type": "code",
   "execution_count": 31,
   "metadata": {},
   "outputs": [
    {
     "data": {
      "text/html": [
       "<div>\n",
       "<style scoped>\n",
       "    .dataframe tbody tr th:only-of-type {\n",
       "        vertical-align: middle;\n",
       "    }\n",
       "\n",
       "    .dataframe tbody tr th {\n",
       "        vertical-align: top;\n",
       "    }\n",
       "\n",
       "    .dataframe thead th {\n",
       "        text-align: right;\n",
       "    }\n",
       "</style>\n",
       "<table border=\"1\" class=\"dataframe\">\n",
       "  <thead>\n",
       "    <tr style=\"text-align: right;\">\n",
       "      <th></th>\n",
       "      <th>MPG</th>\n",
       "      <th>Weight</th>\n",
       "      <th>Horsepower</th>\n",
       "    </tr>\n",
       "    <tr>\n",
       "      <th>Origin</th>\n",
       "      <th></th>\n",
       "      <th></th>\n",
       "      <th></th>\n",
       "    </tr>\n",
       "  </thead>\n",
       "  <tbody>\n",
       "    <tr>\n",
       "      <th>Europe</th>\n",
       "      <td>26.745205</td>\n",
       "      <td>2431.493151</td>\n",
       "      <td>78.780822</td>\n",
       "    </tr>\n",
       "    <tr>\n",
       "      <th>Japan</th>\n",
       "      <td>30.450633</td>\n",
       "      <td>2221.227848</td>\n",
       "      <td>79.835443</td>\n",
       "    </tr>\n",
       "    <tr>\n",
       "      <th>US</th>\n",
       "      <td>19.688189</td>\n",
       "      <td>3372.700787</td>\n",
       "      <td>118.011811</td>\n",
       "    </tr>\n",
       "  </tbody>\n",
       "</table>\n",
       "</div>"
      ],
      "text/plain": [
       "              MPG       Weight  Horsepower\n",
       "Origin                                    \n",
       "Europe  26.745205  2431.493151   78.780822\n",
       "Japan   30.450633  2221.227848   79.835443\n",
       "US      19.688189  3372.700787  118.011811"
      ]
     },
     "execution_count": 31,
     "metadata": {},
     "output_type": "execute_result"
    }
   ],
   "source": [
    "origin_df = df.groupby('Origin')\n",
    "\n",
    "avg_mpg = origin_df[['MPG']].mean()\n",
    "avg_weight = origin_df[['Weight']].mean()\n",
    "avg_hp = origin_df[['Horsepower']].mean()\n",
    "\n",
    "merged = pd.merge(avg_mpg, avg_weight, on='Origin')  \n",
    "final_df = pd.merge(merged, avg_hp, on='Origin')  \n",
    "\n",
    "final_df"
   ]
  }
 ],
 "metadata": {
  "kernelspec": {
   "display_name": "Python 3 (ipykernel)",
   "language": "python",
   "name": "python3"
  },
  "language_info": {
   "codemirror_mode": {
    "name": "ipython",
    "version": 3
   },
   "file_extension": ".py",
   "mimetype": "text/x-python",
   "name": "python",
   "nbconvert_exporter": "python",
   "pygments_lexer": "ipython3",
   "version": "3.12.5"
  }
 },
 "nbformat": 4,
 "nbformat_minor": 4
}
