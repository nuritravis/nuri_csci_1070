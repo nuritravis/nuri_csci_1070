{
 "cells": [
  {
   "cell_type": "markdown",
   "id": "d5d75f72-0fba-4c37-ade7-75634864232f",
   "metadata": {},
   "source": [
    "Classes are a type of object that has its own properties\n",
    "\n",
    "Class Methods: can modify class state, but cannot modify the object state\n",
    "\n",
    "Static Methods: cannot access state of any kind \n",
    "\n",
    "Instance Methods: can modify both the class state and object state\n",
    "\n"
   ]
  }
 ],
 "metadata": {
  "kernelspec": {
   "display_name": "Python 3 (ipykernel)",
   "language": "python",
   "name": "python3"
  },
  "language_info": {
   "codemirror_mode": {
    "name": "ipython",
    "version": 3
   },
   "file_extension": ".py",
   "mimetype": "text/x-python",
   "name": "python",
   "nbconvert_exporter": "python",
   "pygments_lexer": "ipython3",
   "version": "3.12.5"
  }
 },
 "nbformat": 4,
 "nbformat_minor": 5
}
