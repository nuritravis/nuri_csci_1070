{
 "cells": [
  {
   "cell_type": "markdown",
   "id": "00dfaa7f-5bfd-461f-950e-47eeb4ad89b1",
   "metadata": {},
   "source": [
    "conditions: if, elif, else\n",
    "for loops: looping through a set of information\n",
    "while loops: executes while a condition is true\n",
    "range: uses the bounds of something"
   ]
  },
  {
   "cell_type": "markdown",
   "id": "b5620861-3abd-47a5-9063-6ff0057abace",
   "metadata": {},
   "source": [
    "Flow control: changes how code executes iteratively "
   ]
  },
  {
   "cell_type": "code",
   "execution_count": 2,
   "id": "2486bd22-481a-4bd6-ad35-994932a7bbaf",
   "metadata": {},
   "outputs": [
    {
     "name": "stdout",
     "output_type": "stream",
     "text": [
      "b is greater\n"
     ]
    }
   ],
   "source": [
    "a = 1\n",
    "b = 2\n",
    "if a == b:\n",
    "    print(\"they are equal\")\n",
    "elif a > b:\n",
    "    print(\"a is greater\")\n",
    "elif a < b:\n",
    "    print(\"b is greater\")"
   ]
  },
  {
   "cell_type": "code",
   "execution_count": 3,
   "id": "0248360b-9791-4587-8507-9c9e76f20104",
   "metadata": {},
   "outputs": [
    {
     "name": "stdout",
     "output_type": "stream",
     "text": [
      "7\n",
      "6\n"
     ]
    }
   ],
   "source": [
    "x = 7\n",
    "while x > 5:\n",
    "    print(x)\n",
    "    x -= 1"
   ]
  },
  {
   "cell_type": "code",
   "execution_count": 4,
   "id": "54d372d7-78fa-4f03-ab6e-b573b8bba6a1",
   "metadata": {},
   "outputs": [
    {
     "name": "stdout",
     "output_type": "stream",
     "text": [
      "3\n",
      "4\n",
      "5\n",
      "6\n",
      "7\n",
      "8\n",
      "9\n"
     ]
    }
   ],
   "source": [
    "x = 3\n",
    "while x < 10:\n",
    "    print(x)\n",
    "    x +=1"
   ]
  },
  {
   "cell_type": "code",
   "execution_count": 6,
   "id": "70a13d17-263b-4a45-b995-dba9b39345c6",
   "metadata": {},
   "outputs": [
    {
     "name": "stdout",
     "output_type": "stream",
     "text": [
      "Dexter\n",
      "Grumpy\n",
      "Pete\n",
      "Dotty\n",
      "Fluffy\n"
     ]
    }
   ],
   "source": [
    "cats = [\"Dexter\", \"Grumpy\", \"Pete\", \"Dotty\", \"Fluffy\"]\n",
    "\n",
    "for cat in cats:\n",
    "    print(cat)"
   ]
  },
  {
   "cell_type": "code",
   "execution_count": 10,
   "id": "b8e0ced6-0782-4af0-af63-cdebe59af3d7",
   "metadata": {},
   "outputs": [
    {
     "name": "stdout",
     "output_type": "stream",
     "text": [
      "1\n",
      "3\n",
      "5\n",
      "7\n",
      "9\n"
     ]
    }
   ],
   "source": [
    "# Range: (start, stop, step) syntax\n",
    "# exclusive of stop\n",
    "for r in range(1, 10+1, 2):\n",
    "    print(r)"
   ]
  },
  {
   "cell_type": "code",
   "execution_count": 15,
   "id": "2140fa1e-ea67-4394-b3f0-12c1c7ec0e64",
   "metadata": {},
   "outputs": [
    {
     "data": {
      "text/plain": [
       "'b is greater'"
      ]
     },
     "execution_count": 15,
     "metadata": {},
     "output_type": "execute_result"
    }
   ],
   "source": [
    "# Functions make blocks of code reusable\n",
    "# any parameters need to be passed in during the defining of the function (or defined locally inside the function)\n",
    "\n",
    "def compare(a=0, b=0):  \n",
    "    if a == b:\n",
    "        return \"they are equal\"\n",
    "    elif a > b:\n",
    "        return \"a is greater\"\n",
    "    elif a < b:\n",
    "        return \"b is greater\"\n",
    "        \n",
    "compare(10, 17)"
   ]
  },
  {
   "cell_type": "code",
   "execution_count": null,
   "id": "07e84f9c-bc99-44e6-bba7-3bb8f800eb63",
   "metadata": {},
   "outputs": [],
   "source": []
  }
 ],
 "metadata": {
  "kernelspec": {
   "display_name": "Python 3 (ipykernel)",
   "language": "python",
   "name": "python3"
  },
  "language_info": {
   "codemirror_mode": {
    "name": "ipython",
    "version": 3
   },
   "file_extension": ".py",
   "mimetype": "text/x-python",
   "name": "python",
   "nbconvert_exporter": "python",
   "pygments_lexer": "ipython3",
   "version": "3.12.5"
  }
 },
 "nbformat": 4,
 "nbformat_minor": 5
}
