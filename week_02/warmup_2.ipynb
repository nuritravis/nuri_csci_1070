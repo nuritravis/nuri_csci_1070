{
 "cells": [
  {
   "cell_type": "code",
   "execution_count": 5,
   "id": "558b78a7-ec6c-4a5e-8088-b3a65ee5b943",
   "metadata": {},
   "outputs": [
    {
     "ename": "SyntaxError",
     "evalue": "invalid syntax. Perhaps you forgot a comma? (1622649899.py, line 4)",
     "output_type": "error",
     "traceback": [
      "\u001b[0;36m  Cell \u001b[0;32mIn[5], line 4\u001b[0;36m\u001b[0m\n\u001b[0;31m    print(f\"The variable x has a value of \"{x})\u001b[0m\n\u001b[0m          ^\u001b[0m\n\u001b[0;31mSyntaxError\u001b[0m\u001b[0;31m:\u001b[0m invalid syntax. Perhaps you forgot a comma?\n"
     ]
    }
   ],
   "source": [
    "x = 5\n",
    "print(\"The variable x has a value of \" + str(x))\n",
    "#can also use f-notation or concatenate with a comma \",\""
   ]
  },
  {
   "cell_type": "markdown",
   "id": "e14945b4-d546-4759-b7e0-2586d28598c8",
   "metadata": {},
   "source": [
    "The ls (list) command shows a list of files or folders in a directory\n",
    "the cd (change directory) command changes the working directory to a given location"
   ]
  }
 ],
 "metadata": {
  "kernelspec": {
   "display_name": "Python 3 (ipykernel)",
   "language": "python",
   "name": "python3"
  },
  "language_info": {
   "codemirror_mode": {
    "name": "ipython",
    "version": 3
   },
   "file_extension": ".py",
   "mimetype": "text/x-python",
   "name": "python",
   "nbconvert_exporter": "python",
   "pygments_lexer": "ipython3",
   "version": "3.12.5"
  }
 },
 "nbformat": 4,
 "nbformat_minor": 5
}
