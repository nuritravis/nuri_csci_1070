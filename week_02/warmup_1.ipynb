{
 "cells": [
  {
   "cell_type": "code",
   "execution_count": 5,
   "id": "8f67b8dc-f489-441d-aae9-29b1e9651ed1",
   "metadata": {},
   "outputs": [
    {
     "name": "stdin",
     "output_type": "stream",
     "text": [
      "Enter a number:  3\n"
     ]
    },
    {
     "name": "stdout",
     "output_type": "stream",
     "text": [
      "Odd\n"
     ]
    }
   ],
   "source": [
    "#what is wrong: syntax\n",
    "#what its doing: checking if a number is even or odd and printing \"even\" or \"odd\"\n",
    "num = int(input(\"Enter a number: \"))\n",
    "          \n",
    "if num % 2 == 0: # needs 2 equal signs for comparison, not assignment + need to convert num to int value\n",
    "    print(\"Even\")\n",
    "else: # needs colon\n",
    "    print(\"Odd\") # added closing quotation"
   ]
  },
  {
   "cell_type": "code",
   "execution_count": null,
   "id": "7a5d73e4-93ae-481c-acd7-5db5980ff27e",
   "metadata": {},
   "outputs": [],
   "source": []
  }
 ],
 "metadata": {
  "kernelspec": {
   "display_name": "Python 3 (ipykernel)",
   "language": "python",
   "name": "python3"
  },
  "language_info": {
   "codemirror_mode": {
    "name": "ipython",
    "version": 3
   },
   "file_extension": ".py",
   "mimetype": "text/x-python",
   "name": "python",
   "nbconvert_exporter": "python",
   "pygments_lexer": "ipython3",
   "version": "3.12.5"
  }
 },
 "nbformat": 4,
 "nbformat_minor": 5
}
