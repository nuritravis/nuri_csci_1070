{
 "cells": [
  {
   "cell_type": "markdown",
   "id": "420ab899-5f18-427d-9a56-437d477c7e08",
   "metadata": {},
   "source": [
    "# Data Types\n",
    "Anytime you want to open a notebook, you open Terminal (macOS) and run \"jupyter notebook\"\n"
   ]
  },
  {
   "cell_type": "code",
   "execution_count": 1,
   "id": "82d94d47-e771-46f0-ba8d-c2efde213ee1",
   "metadata": {},
   "outputs": [],
   "source": [
    "# to run a cell, you press shift-enter on windows or mac\n",
    "\n",
    "#assignment means to give a variable a value\n",
    "x = 5 #integer\n",
    "y = 6.7 #float (floating point decimal)"
   ]
  },
  {
   "cell_type": "code",
   "execution_count": 3,
   "id": "dbf572a7-5669-4c23-8804-a905ee3ce4fd",
   "metadata": {},
   "outputs": [
    {
     "name": "stdout",
     "output_type": "stream",
     "text": [
      "5\n"
     ]
    }
   ],
   "source": [
    "print(x)\n",
    "# to get hints, press shift-tab while your cursor is in the function"
   ]
  },
  {
   "cell_type": "code",
   "execution_count": 4,
   "id": "64522136-c658-4a5b-bc81-efc1f3712a60",
   "metadata": {},
   "outputs": [
    {
     "data": {
      "text/plain": [
       "float"
      ]
     },
     "execution_count": 4,
     "metadata": {},
     "output_type": "execute_result"
    }
   ],
   "source": [
    "type(y)"
   ]
  },
  {
   "cell_type": "code",
   "execution_count": 5,
   "id": "77a92030-4aac-49da-82f6-a835ba69fd61",
   "metadata": {},
   "outputs": [],
   "source": [
    "# Dictionaries are key: values pairs\n",
    "breakfast = {\"pancakes\": 10, \n",
    "             \"bacon\": 30, \n",
    "             \"eggs\": 150}"
   ]
  },
  {
   "cell_type": "code",
   "execution_count": 9,
   "id": "37d1db56-2a62-4b37-a703-d99525622b7a",
   "metadata": {},
   "outputs": [
    {
     "name": "stdout",
     "output_type": "stream",
     "text": [
      "150\n"
     ]
    }
   ],
   "source": [
    "print(breakfast[\"eggs\"])"
   ]
  },
  {
   "cell_type": "code",
   "execution_count": 12,
   "id": "58099758-b585-46e0-876a-c4a2f06fee90",
   "metadata": {},
   "outputs": [
    {
     "data": {
      "text/plain": [
       "bool"
      ]
     },
     "execution_count": 12,
     "metadata": {},
     "output_type": "execute_result"
    }
   ],
   "source": [
    "# booleans are true/false values\n",
    "is_true = False\n",
    "type(is_true)"
   ]
  },
  {
   "cell_type": "code",
   "execution_count": 13,
   "id": "d0a4736a-73c9-49bb-8aad-ced6f8200bd2",
   "metadata": {},
   "outputs": [
    {
     "name": "stdout",
     "output_type": "stream",
     "text": [
      "{'coffee', 'pancakes', 'bacon', 'eggs'}\n"
     ]
    }
   ],
   "source": [
    "# sets are immutable, meaning they have unordered and unchangeable values\n",
    "breakfast_set = {\"eggs\", \"bacon\", \"pancakes\"}\n",
    "# sets cannot have duplicates\n",
    "breakfast_set.add(\"coffee\")\n",
    "print(breakfast_set)"
   ]
  },
  {
   "cell_type": "code",
   "execution_count": 14,
   "id": "85eb847d-a3c7-4688-9e46-78a80f848afa",
   "metadata": {},
   "outputs": [
    {
     "name": "stdout",
     "output_type": "stream",
     "text": [
      "{'coffee', 'pancakes', 'bacon', 'eggs'}\n"
     ]
    }
   ],
   "source": [
    "breakfast_set.add(\"coffee\")\n",
    "print(breakfast_set)\n"
   ]
  },
  {
   "cell_type": "code",
   "execution_count": 15,
   "id": "4a239470-7c83-404f-89fc-b7470e9cdaaa",
   "metadata": {},
   "outputs": [
    {
     "data": {
      "text/plain": [
       "'March'"
      ]
     },
     "execution_count": 15,
     "metadata": {},
     "output_type": "execute_result"
    }
   ],
   "source": [
    "# list values can be changed and they are ordered\n",
    "# 0 indexed\n",
    "months = [\"January\", \"February\", \"March\"]\n",
    "months[2]"
   ]
  },
  {
   "cell_type": "code",
   "execution_count": 16,
   "id": "6f34f86f-ab2a-45e3-bdbd-225c6fc0c586",
   "metadata": {},
   "outputs": [
    {
     "data": {
      "text/plain": [
       "'coffee'"
      ]
     },
     "execution_count": 16,
     "metadata": {},
     "output_type": "execute_result"
    }
   ],
   "source": [
    "# tuples are ordered but unchangeable\n",
    "breakfast_tuple = (\"coffee\", \"bagels\", \"cereal\")\n",
    "breakfast_tuple[0]"
   ]
  },
  {
   "cell_type": "code",
   "execution_count": 18,
   "id": "dbbf2f12-09b3-40c5-a083-3af627dbecc8",
   "metadata": {},
   "outputs": [
    {
     "name": "stdout",
     "output_type": "stream",
     "text": [
      "3\n"
     ]
    }
   ],
   "source": [
    "print(len(breakfast_tuple)) #length is 3 because there are 3 items"
   ]
  },
  {
   "cell_type": "code",
   "execution_count": 25,
   "id": "f340caa4-2908-4408-a428-218363f0d497",
   "metadata": {},
   "outputs": [
    {
     "name": "stdout",
     "output_type": "stream",
     "text": [
      "['b', 'c']\n"
     ]
    }
   ],
   "source": [
    "# slicing ses the slice.() function, syntax is slice(start, end, step)\n",
    "letters_tuple = ['a', 'b', 'c', 'd', 'e']\n",
    "x = slice(1, 3,)\n",
    "print(letters_tuple[x])"
   ]
  },
  {
   "cell_type": "code",
   "execution_count": 26,
   "id": "bf05dff9-d762-4154-b635-378477a047ee",
   "metadata": {},
   "outputs": [
    {
     "data": {
      "text/plain": [
       "['b', 'c']"
      ]
     },
     "execution_count": 26,
     "metadata": {},
     "output_type": "execute_result"
    }
   ],
   "source": [
    "letters_tuple[1:3]"
   ]
  },
  {
   "cell_type": "code",
   "execution_count": 35,
   "id": "e8e4f9c9-a1fa-4a84-85f0-dceb037ce32f",
   "metadata": {},
   "outputs": [
    {
     "name": "stdout",
     "output_type": "stream",
     "text": [
      "['a', 'c', 'e']\n"
     ]
    }
   ],
   "source": [
    "# use slice to return a, c, and e\n",
    "# exclusive of the end value\n",
    "y = slice(0, 5, 2)\n",
    "print(letters_tuple[y])\n"
   ]
  },
  {
   "cell_type": "code",
   "execution_count": null,
   "id": "8cd1e845-bedf-4b6f-b0d2-7d11ecc3dda3",
   "metadata": {},
   "outputs": [],
   "source": []
  }
 ],
 "metadata": {
  "kernelspec": {
   "display_name": "Python 3 (ipykernel)",
   "language": "python",
   "name": "python3"
  },
  "language_info": {
   "codemirror_mode": {
    "name": "ipython",
    "version": 3
   },
   "file_extension": ".py",
   "mimetype": "text/x-python",
   "name": "python",
   "nbconvert_exporter": "python",
   "pygments_lexer": "ipython3",
   "version": "3.12.5"
  }
 },
 "nbformat": 4,
 "nbformat_minor": 5
}
